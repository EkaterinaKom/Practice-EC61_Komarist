{
 "cells": [
  {
   "cell_type": "markdown",
   "metadata": {},
   "source": [
    "# Regression Tree & Random Forest\n",
    "# Komarist Katya, EK-61"
   ]
  },
  {
   "cell_type": "code",
   "execution_count": 1,
   "metadata": {},
   "outputs": [
    {
     "data": {
      "text/html": [
       "        <script type=\"text/javascript\">\n",
       "        window.PlotlyConfig = {MathJaxConfig: 'local'};\n",
       "        if (window.MathJax) {MathJax.Hub.Config({SVG: {font: \"STIX-Web\"}});}\n",
       "        if (typeof require !== 'undefined') {\n",
       "        require.undef(\"plotly\");\n",
       "        requirejs.config({\n",
       "            paths: {\n",
       "                'plotly': ['https://cdn.plot.ly/plotly-latest.min']\n",
       "            }\n",
       "        });\n",
       "        require(['plotly'], function(Plotly) {\n",
       "            window._Plotly = Plotly;\n",
       "        });\n",
       "        }\n",
       "        </script>\n",
       "        "
      ]
     },
     "metadata": {},
     "output_type": "display_data"
    }
   ],
   "source": [
    "#imports\n",
    "import matplotlib.pyplot as plt\n",
    "import seaborn as sns\n",
    "\n",
    "import math\n",
    "import re\n",
    "\n",
    "import pandas as pd\n",
    "from pandas.tseries.offsets import DateOffset\n",
    "import numpy as np\n",
    "\n",
    "from datetime import date, timedelta\n",
    "import plotly.offline as ply\n",
    "import plotly.graph_objs as go\n",
    "from plotly.tools import make_subplots\n",
    "import plotly.express as px\n",
    "\n",
    "ply.init_notebook_mode(connected=True)\n",
    "\n",
    "from sklearn.impute import SimpleImputer # used for handling missing data\n",
    "from sklearn.preprocessing import LabelEncoder, OneHotEncoder # used for encoding categorical data\n",
    "from sklearn.model_selection import train_test_split # used for splitting training and testing data\n",
    "from sklearn.preprocessing import StandardScaler # used for feature scaling\n",
    "\n",
    "\n",
    "import plotly.graph_objects as go\n",
    "%matplotlib inline"
   ]
  },
  {
   "cell_type": "code",
   "execution_count": 2,
   "metadata": {},
   "outputs": [],
   "source": [
    "# Загрузка подготовленного датасета, создание тестовой и обучающей выборки"
   ]
  },
  {
   "cell_type": "code",
   "execution_count": 3,
   "metadata": {},
   "outputs": [],
   "source": [
    "data = pd.read_csv(\"airbnb_prep.csv\", header = 0, sep=';')"
   ]
  },
  {
   "cell_type": "code",
   "execution_count": 5,
   "metadata": {},
   "outputs": [],
   "source": [
    "df = data.copy()"
   ]
  },
  {
   "cell_type": "code",
   "execution_count": 6,
   "metadata": {},
   "outputs": [],
   "source": [
    "# Создаиние тестовой и обучающей выборки\n",
    "X = df.iloc[:, 1:].values\n",
    "y = df.iloc[:, 0].values\n",
    "from sklearn.model_selection import train_test_split\n",
    "X_train, X_test, y_train, y_test = train_test_split(X, y, test_size=0.2, random_state=3)"
   ]
  },
  {
   "cell_type": "code",
   "execution_count": 12,
   "metadata": {},
   "outputs": [],
   "source": [
    "#Загружается сравнительная таблице по ранее построенным моделям\n",
    "summary = pd.read_csv('summary.csv')\n",
    "summary = summary [[ 'model', 'R2_train', 'R2_test', 'MSE_train', 'MSE_test']]"
   ]
  },
  {
   "cell_type": "code",
   "execution_count": 13,
   "metadata": {},
   "outputs": [
    {
     "data": {
      "text/html": [
       "<div>\n",
       "<style scoped>\n",
       "    .dataframe tbody tr th:only-of-type {\n",
       "        vertical-align: middle;\n",
       "    }\n",
       "\n",
       "    .dataframe tbody tr th {\n",
       "        vertical-align: top;\n",
       "    }\n",
       "\n",
       "    .dataframe thead th {\n",
       "        text-align: right;\n",
       "    }\n",
       "</style>\n",
       "<table border=\"1\" class=\"dataframe\">\n",
       "  <thead>\n",
       "    <tr style=\"text-align: right;\">\n",
       "      <th></th>\n",
       "      <th>model</th>\n",
       "      <th>R2_train</th>\n",
       "      <th>R2_test</th>\n",
       "      <th>MSE_train</th>\n",
       "      <th>MSE_test</th>\n",
       "    </tr>\n",
       "  </thead>\n",
       "  <tbody>\n",
       "    <tr>\n",
       "      <th>0</th>\n",
       "      <td>simle_linear_accomodates</td>\n",
       "      <td>0.255</td>\n",
       "      <td>0.247</td>\n",
       "      <td>7592.33</td>\n",
       "      <td>7423.67</td>\n",
       "    </tr>\n",
       "    <tr>\n",
       "      <th>1</th>\n",
       "      <td>simple_linear_bedrooms</td>\n",
       "      <td>0.259</td>\n",
       "      <td>0.325</td>\n",
       "      <td>7545.87</td>\n",
       "      <td>6651.37</td>\n",
       "    </tr>\n",
       "    <tr>\n",
       "      <th>2</th>\n",
       "      <td>multiple_linear_all</td>\n",
       "      <td>0.513</td>\n",
       "      <td>0.260</td>\n",
       "      <td>4958.94</td>\n",
       "      <td>7292.65</td>\n",
       "    </tr>\n",
       "    <tr>\n",
       "      <th>3</th>\n",
       "      <td>multiple_linear2</td>\n",
       "      <td>0.513</td>\n",
       "      <td>0.488</td>\n",
       "      <td>4967.65</td>\n",
       "      <td>5046.47</td>\n",
       "    </tr>\n",
       "    <tr>\n",
       "      <th>4</th>\n",
       "      <td>polynomial_regression</td>\n",
       "      <td>0.260</td>\n",
       "      <td>0.325</td>\n",
       "      <td>7545.85</td>\n",
       "      <td>6652.33</td>\n",
       "    </tr>\n",
       "  </tbody>\n",
       "</table>\n",
       "</div>"
      ],
      "text/plain": [
       "                      model  R2_train  R2_test  MSE_train  MSE_test\n",
       "0  simle_linear_accomodates     0.255    0.247    7592.33   7423.67\n",
       "1    simple_linear_bedrooms     0.259    0.325    7545.87   6651.37\n",
       "2       multiple_linear_all     0.513    0.260    4958.94   7292.65\n",
       "3          multiple_linear2     0.513    0.488    4967.65   5046.47\n",
       "4     polynomial_regression     0.260    0.325    7545.85   6652.33"
      ]
     },
     "execution_count": 13,
     "metadata": {},
     "output_type": "execute_result"
    }
   ],
   "source": [
    "summary"
   ]
  },
  {
   "cell_type": "markdown",
   "metadata": {},
   "source": [
    "Вначале построим модель дерева решений с использованием одного фактора - bedrooms"
   ]
  },
  {
   "cell_type": "code",
   "execution_count": 41,
   "metadata": {},
   "outputs": [],
   "source": [
    "# Fitting Tree to the Training set (engine-size)\n",
    "from sklearn.tree import DecisionTreeRegressor\n",
    "sdt=DecisionTreeRegressor(max_leaf_nodes=10).fit(X_train[:, 6:7], y_train)"
   ]
  },
  {
   "cell_type": "code",
   "execution_count": 42,
   "metadata": {},
   "outputs": [],
   "source": [
    "# Predicting the Test set results\n",
    "y_pred=sdt.predict(X_test[:, 6:7])"
   ]
  },
  {
   "cell_type": "code",
   "execution_count": 43,
   "metadata": {},
   "outputs": [
    {
     "data": {
      "text/plain": [
       "(0.2624961053029521, 0.32708492813941137)"
      ]
     },
     "execution_count": 43,
     "metadata": {},
     "output_type": "execute_result"
    }
   ],
   "source": [
    "# Coefficient of determination R^2\n",
    "model_summary = {'model':'simple_tree', 'R2_train':round(sdt.score(X_train[:, 6:7], y_train),3)\n",
    "                ,'R2_test':round(sdt.score(X_test[:,6:7], y_test),3)}\n",
    "sdt.score(X_train[:, 6:7], y_train), sdt.score(X_test[:,6:7], y_test)"
   ]
  },
  {
   "cell_type": "code",
   "execution_count": 44,
   "metadata": {},
   "outputs": [
    {
     "data": {
      "text/plain": [
       "(9704.885277718933, 6634.896217366601)"
      ]
     },
     "execution_count": 44,
     "metadata": {},
     "output_type": "execute_result"
    }
   ],
   "source": [
    "# Mean Squared Error\n",
    "from sklearn.metrics import mean_squared_error\n",
    "model_summary['MSE_train'] =round(mean_squared_error(y_train, sdt.predict(X_train[:, 10:11])),2)\n",
    "model_summary['MSE_test'] =round(mean_squared_error(y_test, y_pred),2)\n",
    "mean_squared_error(y_train, sdt.predict(X_train[:, 10:11])), mean_squared_error(y_test, y_pred)"
   ]
  },
  {
   "cell_type": "code",
   "execution_count": 45,
   "metadata": {},
   "outputs": [
    {
     "data": {
      "image/png": "[encoded data removed]",
      "text/plain": [
       "<Figure size 432x288 with 1 Axes>"
      ]
     },
     "metadata": {
      "needs_background": "light"
     },
     "output_type": "display_data"
    }
   ],
   "source": [
    "# Visualising the Training set results\n",
    "X_grid=np.arange(min(X[:, 6:7]), max(X[:, 6:7]), 0.01)\n",
    "X_grid=X_grid.reshape((len(X_grid), 1))\n",
    "plt.plot(X_grid, sdt.predict(X_grid), color='blue')\n",
    "plt.scatter(X_train[:, 6], y_train, color='red')\n",
    "plt.plot(X_train[:, 6], sdt.predict(X_train[:, 6:7]), 'bo')\n",
    "plt.title('Price vs Bedrooms')\n",
    "plt.xlabel('Bedrooms')\n",
    "plt.ylabel('Price')\n",
    "plt.show()"
   ]
  },
  {
   "cell_type": "code",
   "execution_count": 46,
   "metadata": {},
   "outputs": [
    {
     "data": {
      "image/png": "[encoded data removed]",
      "text/plain": [
       "<Figure size 432x288 with 1 Axes>"
      ]
     },
     "metadata": {
      "needs_background": "light"
     },
     "output_type": "display_data"
    }
   ],
   "source": [
    "# Visualising the Training set results\n",
    "X_grid=np.arange(min(X[:, 6:7]), max(X[:, 6:7]), 0.01)\n",
    "X_grid=X_grid.reshape((len(X_grid), 1))\n",
    "plt.plot(X_grid, sdt.predict(X_grid), color='blue')\n",
    "plt.scatter(X_test[:, 6], y_test, color='red')\n",
    "plt.plot(X_test[:, 6], sdt.predict(X_test[:, 6:7]), 'bo')\n",
    "plt.title('Price vs Bedrooms')\n",
    "plt.xlabel('Bedrooms')\n",
    "plt.ylabel('Price')\n",
    "plt.show()"
   ]
  },
  {
   "cell_type": "code",
   "execution_count": 47,
   "metadata": {},
   "outputs": [
    {
     "data": {
      "text/html": [
       "<div>\n",
       "<style scoped>\n",
       "    .dataframe tbody tr th:only-of-type {\n",
       "        vertical-align: middle;\n",
       "    }\n",
       "\n",
       "    .dataframe tbody tr th {\n",
       "        vertical-align: top;\n",
       "    }\n",
       "\n",
       "    .dataframe thead th {\n",
       "        text-align: right;\n",
       "    }\n",
       "</style>\n",
       "<table border=\"1\" class=\"dataframe\">\n",
       "  <thead>\n",
       "    <tr style=\"text-align: right;\">\n",
       "      <th></th>\n",
       "      <th>model</th>\n",
       "      <th>R2_train</th>\n",
       "      <th>R2_test</th>\n",
       "      <th>MSE_train</th>\n",
       "      <th>MSE_test</th>\n",
       "    </tr>\n",
       "  </thead>\n",
       "  <tbody>\n",
       "    <tr>\n",
       "      <th>0</th>\n",
       "      <td>simle_linear_accomodates</td>\n",
       "      <td>0.255</td>\n",
       "      <td>0.247</td>\n",
       "      <td>7592.33</td>\n",
       "      <td>7423.67</td>\n",
       "    </tr>\n",
       "    <tr>\n",
       "      <th>1</th>\n",
       "      <td>simple_linear_bedrooms</td>\n",
       "      <td>0.259</td>\n",
       "      <td>0.325</td>\n",
       "      <td>7545.87</td>\n",
       "      <td>6651.37</td>\n",
       "    </tr>\n",
       "    <tr>\n",
       "      <th>2</th>\n",
       "      <td>multiple_linear_all</td>\n",
       "      <td>0.513</td>\n",
       "      <td>0.260</td>\n",
       "      <td>4958.94</td>\n",
       "      <td>7292.65</td>\n",
       "    </tr>\n",
       "    <tr>\n",
       "      <th>3</th>\n",
       "      <td>multiple_linear2</td>\n",
       "      <td>0.513</td>\n",
       "      <td>0.488</td>\n",
       "      <td>4967.65</td>\n",
       "      <td>5046.47</td>\n",
       "    </tr>\n",
       "    <tr>\n",
       "      <th>4</th>\n",
       "      <td>polynomial_regression</td>\n",
       "      <td>0.260</td>\n",
       "      <td>0.325</td>\n",
       "      <td>7545.85</td>\n",
       "      <td>6652.33</td>\n",
       "    </tr>\n",
       "    <tr>\n",
       "      <th>5</th>\n",
       "      <td>simple_tree</td>\n",
       "      <td>0.262</td>\n",
       "      <td>0.327</td>\n",
       "      <td>9704.89</td>\n",
       "      <td>6634.90</td>\n",
       "    </tr>\n",
       "  </tbody>\n",
       "</table>\n",
       "</div>"
      ],
      "text/plain": [
       "                      model  R2_train  R2_test  MSE_train  MSE_test\n",
       "0  simle_linear_accomodates     0.255    0.247    7592.33   7423.67\n",
       "1    simple_linear_bedrooms     0.259    0.325    7545.87   6651.37\n",
       "2       multiple_linear_all     0.513    0.260    4958.94   7292.65\n",
       "3          multiple_linear2     0.513    0.488    4967.65   5046.47\n",
       "4     polynomial_regression     0.260    0.325    7545.85   6652.33\n",
       "5               simple_tree     0.262    0.327    9704.89   6634.90"
      ]
     },
     "execution_count": 47,
     "metadata": {},
     "output_type": "execute_result"
    }
   ],
   "source": [
    "summary = summary.append(model_summary, ignore_index=True)\n",
    "summary"
   ]
  },
  {
   "cell_type": "markdown",
   "metadata": {},
   "source": [
    "Качество модели дерева решений с одним фактором очень низкое. \n",
    "\n",
    "Далее строится модель дерева решений со значимыми факторами, которые были определены в работе с регрессионными моделями."
   ]
  },
  {
   "cell_type": "code",
   "execution_count": 48,
   "metadata": {},
   "outputs": [],
   "source": [
    "X1 = df.iloc[:,[1,2,4,5,6,7,9,10,12,14,15,16,19,20,21,22,23]].values\n",
    "y = df.iloc[:, 0].values\n",
    "from sklearn.model_selection import train_test_split\n",
    "X_train1, X_test1, y_train, y_test = train_test_split(X1, y, test_size=0.2, random_state=3)"
   ]
  },
  {
   "cell_type": "code",
   "execution_count": 49,
   "metadata": {},
   "outputs": [],
   "source": [
    "# Fitting Tree to the Training set \n",
    "from sklearn.tree import DecisionTreeRegressor\n",
    "dt=DecisionTreeRegressor(max_leaf_nodes=10).fit(X_train1, y_train)"
   ]
  },
  {
   "cell_type": "code",
   "execution_count": 50,
   "metadata": {},
   "outputs": [],
   "source": [
    "# Predicting the Test set results\n",
    "y_pred=dt.predict(X_test1)"
   ]
  },
  {
   "cell_type": "code",
   "execution_count": 51,
   "metadata": {},
   "outputs": [
    {
     "data": {
      "text/plain": [
       "(0.5484580715866904, 0.41872243574496315)"
      ]
     },
     "execution_count": 51,
     "metadata": {},
     "output_type": "execute_result"
    }
   ],
   "source": [
    "# Coefficient of determination R^2\n",
    "model_summary = {'model':'regression_tree', 'R2_train':round(dt.score(X_train1, y_train),3)\n",
    "                ,'R2_test':round(dt.score(X_test1, y_test),3)}\n",
    "dt.score(X_train1, y_train), dt.score(X_test1, y_test)"
   ]
  },
  {
   "cell_type": "code",
   "execution_count": 52,
   "metadata": {},
   "outputs": [
    {
     "data": {
      "text/plain": [
       "(4601.317506640106, 5731.356709921979)"
      ]
     },
     "execution_count": 52,
     "metadata": {},
     "output_type": "execute_result"
    }
   ],
   "source": [
    "# Mean Squared Error\n",
    "from sklearn.metrics import mean_squared_error\n",
    "model_summary['MSE_train'] =round(mean_squared_error(y_train, dt.predict(X_train1)),2)\n",
    "model_summary['MSE_test'] =round(mean_squared_error(y_test, y_pred),2)\n",
    "mean_squared_error(y_train, dt.predict(X_train1)), mean_squared_error(y_test, y_pred)"
   ]
  },
  {
   "cell_type": "code",
   "execution_count": 53,
   "metadata": {},
   "outputs": [
    {
     "data": {
      "image/png": "[encoded data removed]",
      "text/plain": [
       "<Figure size 432x288 with 1 Axes>"
      ]
     },
     "metadata": {
      "needs_background": "light"
     },
     "output_type": "display_data"
    }
   ],
   "source": [
    "# Visualising the Training set results\n",
    "plt.scatter(X_train1[:, 5], y_train, color='red')\n",
    "plt.plot(X_train1[:, 5], dt.predict(X_train1), 'bo')\n",
    "plt.title('Price vs Bedrooms (Training set)')\n",
    "plt.xlabel('Bedrooms')\n",
    "plt.ylabel('Price')\n",
    "plt.show()"
   ]
  },
  {
   "cell_type": "code",
   "execution_count": 54,
   "metadata": {},
   "outputs": [
    {
     "data": {
      "image/png": "[encoded data removed]",
      "text/plain": [
       "<Figure size 432x288 with 1 Axes>"
      ]
     },
     "metadata": {
      "needs_background": "light"
     },
     "output_type": "display_data"
    }
   ],
   "source": [
    "# Visualising the Training set results\n",
    "plt.scatter(X_test1[:, 5], y_test, color='red')\n",
    "plt.plot(X_test1[:, 5], dt.predict(X_test1), 'bo')\n",
    "plt.title('Price vs Bedrooms (Test set)')\n",
    "plt.xlabel('Bedrooms')\n",
    "plt.ylabel('Price')\n",
    "plt.show()"
   ]
  },
  {
   "cell_type": "code",
   "execution_count": 56,
   "metadata": {},
   "outputs": [
    {
     "data": {
      "text/html": [
       "<div>\n",
       "<style scoped>\n",
       "    .dataframe tbody tr th:only-of-type {\n",
       "        vertical-align: middle;\n",
       "    }\n",
       "\n",
       "    .dataframe tbody tr th {\n",
       "        vertical-align: top;\n",
       "    }\n",
       "\n",
       "    .dataframe thead th {\n",
       "        text-align: right;\n",
       "    }\n",
       "</style>\n",
       "<table border=\"1\" class=\"dataframe\">\n",
       "  <thead>\n",
       "    <tr style=\"text-align: right;\">\n",
       "      <th></th>\n",
       "      <th>model</th>\n",
       "      <th>R2_train</th>\n",
       "      <th>R2_test</th>\n",
       "      <th>MSE_train</th>\n",
       "      <th>MSE_test</th>\n",
       "    </tr>\n",
       "  </thead>\n",
       "  <tbody>\n",
       "    <tr>\n",
       "      <th>0</th>\n",
       "      <td>simle_linear_accomodates</td>\n",
       "      <td>0.255</td>\n",
       "      <td>0.247</td>\n",
       "      <td>7592.33</td>\n",
       "      <td>7423.67</td>\n",
       "    </tr>\n",
       "    <tr>\n",
       "      <th>1</th>\n",
       "      <td>simple_linear_bedrooms</td>\n",
       "      <td>0.259</td>\n",
       "      <td>0.325</td>\n",
       "      <td>7545.87</td>\n",
       "      <td>6651.37</td>\n",
       "    </tr>\n",
       "    <tr>\n",
       "      <th>2</th>\n",
       "      <td>multiple_linear_all</td>\n",
       "      <td>0.513</td>\n",
       "      <td>0.260</td>\n",
       "      <td>4958.94</td>\n",
       "      <td>7292.65</td>\n",
       "    </tr>\n",
       "    <tr>\n",
       "      <th>3</th>\n",
       "      <td>multiple_linear2</td>\n",
       "      <td>0.513</td>\n",
       "      <td>0.488</td>\n",
       "      <td>4967.65</td>\n",
       "      <td>5046.47</td>\n",
       "    </tr>\n",
       "    <tr>\n",
       "      <th>4</th>\n",
       "      <td>polynomial_regression</td>\n",
       "      <td>0.260</td>\n",
       "      <td>0.325</td>\n",
       "      <td>7545.85</td>\n",
       "      <td>6652.33</td>\n",
       "    </tr>\n",
       "    <tr>\n",
       "      <th>5</th>\n",
       "      <td>simple_tree</td>\n",
       "      <td>0.262</td>\n",
       "      <td>0.327</td>\n",
       "      <td>9704.89</td>\n",
       "      <td>6634.90</td>\n",
       "    </tr>\n",
       "    <tr>\n",
       "      <th>6</th>\n",
       "      <td>regression_tree</td>\n",
       "      <td>0.548</td>\n",
       "      <td>0.419</td>\n",
       "      <td>4601.32</td>\n",
       "      <td>5731.36</td>\n",
       "    </tr>\n",
       "  </tbody>\n",
       "</table>\n",
       "</div>"
      ],
      "text/plain": [
       "                      model  R2_train  R2_test  MSE_train  MSE_test\n",
       "0  simle_linear_accomodates     0.255    0.247    7592.33   7423.67\n",
       "1    simple_linear_bedrooms     0.259    0.325    7545.87   6651.37\n",
       "2       multiple_linear_all     0.513    0.260    4958.94   7292.65\n",
       "3          multiple_linear2     0.513    0.488    4967.65   5046.47\n",
       "4     polynomial_regression     0.260    0.325    7545.85   6652.33\n",
       "5               simple_tree     0.262    0.327    9704.89   6634.90\n",
       "6           regression_tree     0.548    0.419    4601.32   5731.36"
      ]
     },
     "execution_count": 56,
     "metadata": {},
     "output_type": "execute_result"
    }
   ],
   "source": [
    "summary = summary.append(model_summary, ignore_index=True)\n",
    "summary"
   ]
  },
  {
   "cell_type": "markdown",
   "metadata": {},
   "source": [
    "В многофакторной модели дерева решений R2_train наивысший из всех моделей, однако R2_test меньше чем у multiple_linear2 (со значимыми факторами).MSE_test также больше, чем у регрессионной модели.\n",
    "\n",
    "Далее строится модель случайного леса."
   ]
  },
  {
   "cell_type": "code",
   "execution_count": 57,
   "metadata": {},
   "outputs": [],
   "source": [
    "# Fitting Random Forest to the Training set\n",
    "from sklearn.ensemble import RandomForestRegressor\n",
    "rf=RandomForestRegressor(n_estimators=10, random_state=3).fit(X_train1, y_train)"
   ]
  },
  {
   "cell_type": "code",
   "execution_count": 58,
   "metadata": {},
   "outputs": [],
   "source": [
    "# Predicting the Test set results\n",
    "y_pred=rf.predict(X_test1)"
   ]
  },
  {
   "cell_type": "code",
   "execution_count": 59,
   "metadata": {},
   "outputs": [
    {
     "data": {
      "text/plain": [
       "(0.9144075494053259, 0.5271749855431482)"
      ]
     },
     "execution_count": 59,
     "metadata": {},
     "output_type": "execute_result"
    }
   ],
   "source": [
    "# Coefficient of determination R^2\n",
    "model_summary = {'model':'random_forest', 'R2_train':round(rf.score(X_train1, y_train),3)\n",
    "                ,'R2_test':round(rf.score(X_test1, y_test),3)}\n",
    "rf.score(X_train1, y_train), rf.score(X_test1, y_test)"
   ]
  },
  {
   "cell_type": "code",
   "execution_count": 60,
   "metadata": {},
   "outputs": [
    {
     "data": {
      "text/plain": [
       "(872.2070234793582, 4662.02204569734)"
      ]
     },
     "execution_count": 60,
     "metadata": {},
     "output_type": "execute_result"
    }
   ],
   "source": [
    "# Mean Squared Error\n",
    "from sklearn.metrics import mean_squared_error\n",
    "model_summary['MSE_train'] =round(mean_squared_error(y_train, rf.predict(X_train1)),2)\n",
    "model_summary['MSE_test'] =round(mean_squared_error(y_test, y_pred),2)\n",
    "mean_squared_error(y_train, rf.predict(X_train1)), mean_squared_error(y_test, y_pred)"
   ]
  },
  {
   "cell_type": "code",
   "execution_count": 64,
   "metadata": {},
   "outputs": [
    {
     "data": {
      "image/png": "[encoded data removed]",
      "text/plain": [
       "<Figure size 432x288 with 1 Axes>"
      ]
     },
     "metadata": {
      "needs_background": "light"
     },
     "output_type": "display_data"
    }
   ],
   "source": [
    "# Visualising the Training set results\n",
    "plt.scatter(X_train1[:, 9], y_train, color='red')\n",
    "plt.plot(X_train1[:,9], rf.predict(X_train1), 'bo')\n",
    "plt.title('Price vs Cleaning fee')\n",
    "plt.xlabel('Cleaning fee')\n",
    "plt.ylabel('Price')\n",
    "plt.show()"
   ]
  },
  {
   "cell_type": "code",
   "execution_count": 65,
   "metadata": {},
   "outputs": [
    {
     "data": {
      "image/png": "[encoded data removed]",
      "text/plain": [
       "<Figure size 432x288 with 1 Axes>"
      ]
     },
     "metadata": {
      "needs_background": "light"
     },
     "output_type": "display_data"
    }
   ],
   "source": [
    "# Visualising the Test set results\n",
    "plt.scatter(X_test1[:, 9], y_test, color='red')\n",
    "plt.plot(X_test1[:,9], rf.predict(X_test1), 'bo')\n",
    "plt.title('Price vs Cleaning fee (Test set)')\n",
    "plt.xlabel('Cleaning fee')\n",
    "plt.ylabel('Price')\n",
    "plt.show()"
   ]
  },
  {
   "cell_type": "code",
   "execution_count": 66,
   "metadata": {
    "scrolled": true
   },
   "outputs": [
    {
     "data": {
      "text/html": [
       "<div>\n",
       "<style scoped>\n",
       "    .dataframe tbody tr th:only-of-type {\n",
       "        vertical-align: middle;\n",
       "    }\n",
       "\n",
       "    .dataframe tbody tr th {\n",
       "        vertical-align: top;\n",
       "    }\n",
       "\n",
       "    .dataframe thead th {\n",
       "        text-align: right;\n",
       "    }\n",
       "</style>\n",
       "<table border=\"1\" class=\"dataframe\">\n",
       "  <thead>\n",
       "    <tr style=\"text-align: right;\">\n",
       "      <th></th>\n",
       "      <th>model</th>\n",
       "      <th>R2_train</th>\n",
       "      <th>R2_test</th>\n",
       "      <th>MSE_train</th>\n",
       "      <th>MSE_test</th>\n",
       "    </tr>\n",
       "  </thead>\n",
       "  <tbody>\n",
       "    <tr>\n",
       "      <th>0</th>\n",
       "      <td>simle_linear_accomodates</td>\n",
       "      <td>0.255</td>\n",
       "      <td>0.247</td>\n",
       "      <td>7592.33</td>\n",
       "      <td>7423.67</td>\n",
       "    </tr>\n",
       "    <tr>\n",
       "      <th>1</th>\n",
       "      <td>simple_linear_bedrooms</td>\n",
       "      <td>0.259</td>\n",
       "      <td>0.325</td>\n",
       "      <td>7545.87</td>\n",
       "      <td>6651.37</td>\n",
       "    </tr>\n",
       "    <tr>\n",
       "      <th>2</th>\n",
       "      <td>multiple_linear_all</td>\n",
       "      <td>0.513</td>\n",
       "      <td>0.260</td>\n",
       "      <td>4958.94</td>\n",
       "      <td>7292.65</td>\n",
       "    </tr>\n",
       "    <tr>\n",
       "      <th>3</th>\n",
       "      <td>multiple_linear2</td>\n",
       "      <td>0.513</td>\n",
       "      <td>0.488</td>\n",
       "      <td>4967.65</td>\n",
       "      <td>5046.47</td>\n",
       "    </tr>\n",
       "    <tr>\n",
       "      <th>4</th>\n",
       "      <td>polynomial_regression</td>\n",
       "      <td>0.260</td>\n",
       "      <td>0.325</td>\n",
       "      <td>7545.85</td>\n",
       "      <td>6652.33</td>\n",
       "    </tr>\n",
       "    <tr>\n",
       "      <th>5</th>\n",
       "      <td>simple_tree</td>\n",
       "      <td>0.262</td>\n",
       "      <td>0.327</td>\n",
       "      <td>9704.89</td>\n",
       "      <td>6634.90</td>\n",
       "    </tr>\n",
       "    <tr>\n",
       "      <th>6</th>\n",
       "      <td>regression_tree</td>\n",
       "      <td>0.548</td>\n",
       "      <td>0.419</td>\n",
       "      <td>4601.32</td>\n",
       "      <td>5731.36</td>\n",
       "    </tr>\n",
       "    <tr>\n",
       "      <th>7</th>\n",
       "      <td>random_forest</td>\n",
       "      <td>0.914</td>\n",
       "      <td>0.527</td>\n",
       "      <td>872.21</td>\n",
       "      <td>4662.02</td>\n",
       "    </tr>\n",
       "  </tbody>\n",
       "</table>\n",
       "</div>"
      ],
      "text/plain": [
       "                      model  R2_train  R2_test  MSE_train  MSE_test\n",
       "0  simle_linear_accomodates     0.255    0.247    7592.33   7423.67\n",
       "1    simple_linear_bedrooms     0.259    0.325    7545.87   6651.37\n",
       "2       multiple_linear_all     0.513    0.260    4958.94   7292.65\n",
       "3          multiple_linear2     0.513    0.488    4967.65   5046.47\n",
       "4     polynomial_regression     0.260    0.325    7545.85   6652.33\n",
       "5               simple_tree     0.262    0.327    9704.89   6634.90\n",
       "6           regression_tree     0.548    0.419    4601.32   5731.36\n",
       "7             random_forest     0.914    0.527     872.21   4662.02"
      ]
     },
     "execution_count": 66,
     "metadata": {},
     "output_type": "execute_result"
    }
   ],
   "source": [
    "summary = summary.append(model_summary, ignore_index=True)\n",
    "summary"
   ]
  },
  {
   "cell_type": "markdown",
   "metadata": {},
   "source": [
    "Наилучшей моделью является модель случайного леса, построенная с использование значимых переменных.\n",
    "R2_test даной модели наивысший, хотя и значительно меньше,чем R2_train. MSE_train и MSE_test также наименьшие у даной модели."
   ]
  },
  {
   "cell_type": "code",
   "execution_count": 70,
   "metadata": {},
   "outputs": [],
   "source": [
    "summary.to_csv('summary.csv')"
   ]
  }
 ],
 "metadata": {
  "kernelspec": {
   "display_name": "Python 3",
   "language": "python",
   "name": "python3"
  },
  "language_info": {
   "codemirror_mode": {
    "name": "ipython",
    "version": 3
   },
   "file_extension": ".py",
   "mimetype": "text/x-python",
   "name": "python",
   "nbconvert_exporter": "python",
   "pygments_lexer": "ipython3",
   "version": "3.8.3"
  }
 },
 "nbformat": 4,
 "nbformat_minor": 4
}

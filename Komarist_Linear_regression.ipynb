{
 "cells": [
  {
   "cell_type": "markdown",
   "metadata": {},
   "source": [
    "# Linear regression\n",
    "# Komarist Katya, EK-61"
   ]
  },
  {
   "cell_type": "code",
   "execution_count": 12,
   "metadata": {},
   "outputs": [
    {
     "data": {
      "text/html": [
       "        <script type=\"text/javascript\">\n",
       "        window.PlotlyConfig = {MathJaxConfig: 'local'};\n",
       "        if (window.MathJax) {MathJax.Hub.Config({SVG: {font: \"STIX-Web\"}});}\n",
       "        if (typeof require !== 'undefined') {\n",
       "        require.undef(\"plotly\");\n",
       "        requirejs.config({\n",
       "            paths: {\n",
       "                'plotly': ['https://cdn.plot.ly/plotly-latest.min']\n",
       "            }\n",
       "        });\n",
       "        require(['plotly'], function(Plotly) {\n",
       "            window._Plotly = Plotly;\n",
       "        });\n",
       "        }\n",
       "        </script>\n",
       "        "
      ]
     },
     "metadata": {},
     "output_type": "display_data"
    }
   ],
   "source": [
    "#imports\n",
    "import matplotlib.pyplot as plt\n",
    "import seaborn as sns\n",
    "\n",
    "import math\n",
    "import re\n",
    "\n",
    "import pandas as pd\n",
    "from pandas.tseries.offsets import DateOffset\n",
    "import numpy as np\n",
    "\n",
    "from datetime import date, timedelta\n",
    "import plotly.offline as ply\n",
    "import plotly.graph_objs as go\n",
    "from plotly.tools import make_subplots\n",
    "import plotly.express as px\n",
    "\n",
    "ply.init_notebook_mode(connected=True)\n",
    "\n",
    "from sklearn.impute import SimpleImputer # used for handling missing data\n",
    "from sklearn.preprocessing import LabelEncoder, OneHotEncoder # used for encoding categorical data\n",
    "from sklearn.model_selection import train_test_split # used for splitting training and testing data\n",
    "from sklearn.preprocessing import StandardScaler # used for feature scaling\n",
    "\n",
    "\n",
    "import plotly.graph_objects as go\n",
    "%matplotlib inline"
   ]
  },
  {
   "cell_type": "markdown",
   "metadata": {},
   "source": [
    "## Загрузка и ознакомление с данными (берется уже подготовленный датасет)"
   ]
  },
  {
   "cell_type": "code",
   "execution_count": 16,
   "metadata": {},
   "outputs": [],
   "source": [
    "data = pd.read_csv(\"airbnb_prep.csv\", header = 0, sep=';')"
   ]
  },
  {
   "cell_type": "code",
   "execution_count": 17,
   "metadata": {},
   "outputs": [
    {
     "data": {
      "text/html": [
       "<div>\n",
       "<style scoped>\n",
       "    .dataframe tbody tr th:only-of-type {\n",
       "        vertical-align: middle;\n",
       "    }\n",
       "\n",
       "    .dataframe tbody tr th {\n",
       "        vertical-align: top;\n",
       "    }\n",
       "\n",
       "    .dataframe thead th {\n",
       "        text-align: right;\n",
       "    }\n",
       "</style>\n",
       "<table border=\"1\" class=\"dataframe\">\n",
       "  <thead>\n",
       "    <tr style=\"text-align: right;\">\n",
       "      <th></th>\n",
       "      <th>price</th>\n",
       "      <th>host_since</th>\n",
       "      <th>neighbourhood_cleansed</th>\n",
       "      <th>city</th>\n",
       "      <th>accommodates</th>\n",
       "      <th>bathrooms</th>\n",
       "      <th>bedrooms</th>\n",
       "      <th>beds</th>\n",
       "      <th>bed_type</th>\n",
       "      <th>amenities</th>\n",
       "      <th>...</th>\n",
       "      <th>number_of_reviews</th>\n",
       "      <th>instant_bookable</th>\n",
       "      <th>calculated_host_listings_count</th>\n",
       "      <th>apartment</th>\n",
       "      <th>house</th>\n",
       "      <th>private_room</th>\n",
       "      <th>shared_room</th>\n",
       "      <th>strict_cancel</th>\n",
       "      <th>flexible_cancel</th>\n",
       "      <th>moderate_cancel</th>\n",
       "    </tr>\n",
       "  </thead>\n",
       "  <tbody>\n",
       "    <tr>\n",
       "      <th>0</th>\n",
       "      <td>195.0</td>\n",
       "      <td>2632.0</td>\n",
       "      <td>1</td>\n",
       "      <td>1</td>\n",
       "      <td>4.0</td>\n",
       "      <td>1.0</td>\n",
       "      <td>1.0</td>\n",
       "      <td>1.0</td>\n",
       "      <td>1</td>\n",
       "      <td>0</td>\n",
       "      <td>...</td>\n",
       "      <td>2.0</td>\n",
       "      <td>1</td>\n",
       "      <td>21.770801</td>\n",
       "      <td>1.0</td>\n",
       "      <td>0.0</td>\n",
       "      <td>0.0</td>\n",
       "      <td>0.0</td>\n",
       "      <td>1.0</td>\n",
       "      <td>0.0</td>\n",
       "      <td>0.0</td>\n",
       "    </tr>\n",
       "    <tr>\n",
       "      <th>1</th>\n",
       "      <td>150.0</td>\n",
       "      <td>3201.0</td>\n",
       "      <td>1</td>\n",
       "      <td>1</td>\n",
       "      <td>2.0</td>\n",
       "      <td>1.5</td>\n",
       "      <td>1.0</td>\n",
       "      <td>1.0</td>\n",
       "      <td>1</td>\n",
       "      <td>14</td>\n",
       "      <td>...</td>\n",
       "      <td>2.0</td>\n",
       "      <td>1</td>\n",
       "      <td>1.000000</td>\n",
       "      <td>1.0</td>\n",
       "      <td>0.0</td>\n",
       "      <td>0.0</td>\n",
       "      <td>0.0</td>\n",
       "      <td>1.0</td>\n",
       "      <td>0.0</td>\n",
       "      <td>0.0</td>\n",
       "    </tr>\n",
       "    <tr>\n",
       "      <th>2</th>\n",
       "      <td>140.0</td>\n",
       "      <td>4015.0</td>\n",
       "      <td>1</td>\n",
       "      <td>1</td>\n",
       "      <td>6.0</td>\n",
       "      <td>1.0</td>\n",
       "      <td>2.0</td>\n",
       "      <td>3.0</td>\n",
       "      <td>1</td>\n",
       "      <td>9</td>\n",
       "      <td>...</td>\n",
       "      <td>53.0</td>\n",
       "      <td>1</td>\n",
       "      <td>3.000000</td>\n",
       "      <td>1.0</td>\n",
       "      <td>0.0</td>\n",
       "      <td>0.0</td>\n",
       "      <td>0.0</td>\n",
       "      <td>1.0</td>\n",
       "      <td>0.0</td>\n",
       "      <td>0.0</td>\n",
       "    </tr>\n",
       "    <tr>\n",
       "      <th>3</th>\n",
       "      <td>110.0</td>\n",
       "      <td>2745.0</td>\n",
       "      <td>1</td>\n",
       "      <td>1</td>\n",
       "      <td>3.0</td>\n",
       "      <td>1.0</td>\n",
       "      <td>0.0</td>\n",
       "      <td>2.0</td>\n",
       "      <td>1</td>\n",
       "      <td>12</td>\n",
       "      <td>...</td>\n",
       "      <td>32.0</td>\n",
       "      <td>1</td>\n",
       "      <td>4.000000</td>\n",
       "      <td>1.0</td>\n",
       "      <td>0.0</td>\n",
       "      <td>0.0</td>\n",
       "      <td>0.0</td>\n",
       "      <td>0.0</td>\n",
       "      <td>1.0</td>\n",
       "      <td>0.0</td>\n",
       "    </tr>\n",
       "    <tr>\n",
       "      <th>4</th>\n",
       "      <td>119.0</td>\n",
       "      <td>3033.0</td>\n",
       "      <td>1</td>\n",
       "      <td>1</td>\n",
       "      <td>2.0</td>\n",
       "      <td>1.0</td>\n",
       "      <td>1.0</td>\n",
       "      <td>1.0</td>\n",
       "      <td>0</td>\n",
       "      <td>11</td>\n",
       "      <td>...</td>\n",
       "      <td>3.0</td>\n",
       "      <td>1</td>\n",
       "      <td>3.000000</td>\n",
       "      <td>0.0</td>\n",
       "      <td>1.0</td>\n",
       "      <td>1.0</td>\n",
       "      <td>0.0</td>\n",
       "      <td>0.0</td>\n",
       "      <td>0.0</td>\n",
       "      <td>1.0</td>\n",
       "    </tr>\n",
       "  </tbody>\n",
       "</table>\n",
       "<p>5 rows × 24 columns</p>\n",
       "</div>"
      ],
      "text/plain": [
       "   price  host_since  neighbourhood_cleansed  city  accommodates  bathrooms  \\\n",
       "0  195.0      2632.0                       1     1           4.0        1.0   \n",
       "1  150.0      3201.0                       1     1           2.0        1.5   \n",
       "2  140.0      4015.0                       1     1           6.0        1.0   \n",
       "3  110.0      2745.0                       1     1           3.0        1.0   \n",
       "4  119.0      3033.0                       1     1           2.0        1.0   \n",
       "\n",
       "   bedrooms  beds  bed_type  amenities  ...  number_of_reviews  \\\n",
       "0       1.0   1.0         1          0  ...                2.0   \n",
       "1       1.0   1.0         1         14  ...                2.0   \n",
       "2       2.0   3.0         1          9  ...               53.0   \n",
       "3       0.0   2.0         1         12  ...               32.0   \n",
       "4       1.0   1.0         0         11  ...                3.0   \n",
       "\n",
       "   instant_bookable  calculated_host_listings_count  apartment  house  \\\n",
       "0                 1                       21.770801        1.0    0.0   \n",
       "1                 1                        1.000000        1.0    0.0   \n",
       "2                 1                        3.000000        1.0    0.0   \n",
       "3                 1                        4.000000        1.0    0.0   \n",
       "4                 1                        3.000000        0.0    1.0   \n",
       "\n",
       "   private_room  shared_room  strict_cancel  flexible_cancel  moderate_cancel  \n",
       "0           0.0          0.0            1.0              0.0              0.0  \n",
       "1           0.0          0.0            1.0              0.0              0.0  \n",
       "2           0.0          0.0            1.0              0.0              0.0  \n",
       "3           0.0          0.0            0.0              1.0              0.0  \n",
       "4           1.0          0.0            0.0              0.0              1.0  \n",
       "\n",
       "[5 rows x 24 columns]"
      ]
     },
     "execution_count": 17,
     "metadata": {},
     "output_type": "execute_result"
    }
   ],
   "source": [
    "data.head()"
   ]
  },
  {
   "cell_type": "code",
   "execution_count": 18,
   "metadata": {},
   "outputs": [
    {
     "name": "stdout",
     "output_type": "stream",
     "text": [
      "<class 'pandas.core.frame.DataFrame'>\n",
      "RangeIndex: 3013 entries, 0 to 3012\n",
      "Data columns (total 24 columns):\n",
      " #   Column                          Non-Null Count  Dtype  \n",
      "---  ------                          --------------  -----  \n",
      " 0   price                           3013 non-null   float64\n",
      " 1   host_since                      3013 non-null   float64\n",
      " 2   neighbourhood_cleansed          3013 non-null   int64  \n",
      " 3   city                            3013 non-null   int64  \n",
      " 4   accommodates                    3013 non-null   float64\n",
      " 5   bathrooms                       3013 non-null   float64\n",
      " 6   bedrooms                        3013 non-null   float64\n",
      " 7   beds                            3013 non-null   float64\n",
      " 8   bed_type                        3013 non-null   int64  \n",
      " 9   amenities                       3013 non-null   int64  \n",
      " 10  cleaning_fee                    3013 non-null   float64\n",
      " 11  guests_included                 3013 non-null   float64\n",
      " 12  minimum_nights                  3013 non-null   float64\n",
      " 13  maximum_nights                  3013 non-null   float64\n",
      " 14  number_of_reviews               3013 non-null   float64\n",
      " 15  instant_bookable                3013 non-null   int64  \n",
      " 16  calculated_host_listings_count  3013 non-null   float64\n",
      " 17  apartment                       3013 non-null   float64\n",
      " 18  house                           3013 non-null   float64\n",
      " 19  private_room                    3013 non-null   float64\n",
      " 20  shared_room                     3013 non-null   float64\n",
      " 21  strict_cancel                   3013 non-null   float64\n",
      " 22  flexible_cancel                 3013 non-null   float64\n",
      " 23  moderate_cancel                 3013 non-null   float64\n",
      "dtypes: float64(19), int64(5)\n",
      "memory usage: 565.1 KB\n"
     ]
    }
   ],
   "source": [
    "data.info()"
   ]
  },
  {
   "cell_type": "code",
   "execution_count": 19,
   "metadata": {},
   "outputs": [
    {
     "data": {
      "text/html": [
       "<div>\n",
       "<style scoped>\n",
       "    .dataframe tbody tr th:only-of-type {\n",
       "        vertical-align: middle;\n",
       "    }\n",
       "\n",
       "    .dataframe tbody tr th {\n",
       "        vertical-align: top;\n",
       "    }\n",
       "\n",
       "    .dataframe thead th {\n",
       "        text-align: right;\n",
       "    }\n",
       "</style>\n",
       "<table border=\"1\" class=\"dataframe\">\n",
       "  <thead>\n",
       "    <tr style=\"text-align: right;\">\n",
       "      <th></th>\n",
       "      <th>price</th>\n",
       "      <th>host_since</th>\n",
       "      <th>neighbourhood_cleansed</th>\n",
       "      <th>city</th>\n",
       "      <th>accommodates</th>\n",
       "      <th>bathrooms</th>\n",
       "      <th>bedrooms</th>\n",
       "      <th>beds</th>\n",
       "      <th>bed_type</th>\n",
       "      <th>amenities</th>\n",
       "      <th>...</th>\n",
       "      <th>number_of_reviews</th>\n",
       "      <th>instant_bookable</th>\n",
       "      <th>calculated_host_listings_count</th>\n",
       "      <th>apartment</th>\n",
       "      <th>house</th>\n",
       "      <th>private_room</th>\n",
       "      <th>shared_room</th>\n",
       "      <th>strict_cancel</th>\n",
       "      <th>flexible_cancel</th>\n",
       "      <th>moderate_cancel</th>\n",
       "    </tr>\n",
       "  </thead>\n",
       "  <tbody>\n",
       "    <tr>\n",
       "      <th>count</th>\n",
       "      <td>3013.000000</td>\n",
       "      <td>3013.000000</td>\n",
       "      <td>3013.00000</td>\n",
       "      <td>3013.000000</td>\n",
       "      <td>3013.000000</td>\n",
       "      <td>3013.000000</td>\n",
       "      <td>3013.000000</td>\n",
       "      <td>3013.000000</td>\n",
       "      <td>3013.000000</td>\n",
       "      <td>3013.000000</td>\n",
       "      <td>...</td>\n",
       "      <td>3013.000000</td>\n",
       "      <td>3013.000000</td>\n",
       "      <td>3013.000000</td>\n",
       "      <td>3013.000000</td>\n",
       "      <td>3013.000000</td>\n",
       "      <td>3013.000000</td>\n",
       "      <td>3013.000000</td>\n",
       "      <td>3013.000000</td>\n",
       "      <td>3013.000000</td>\n",
       "      <td>3013.000000</td>\n",
       "    </tr>\n",
       "    <tr>\n",
       "      <th>mean</th>\n",
       "      <td>144.455691</td>\n",
       "      <td>2623.953177</td>\n",
       "      <td>0.78991</td>\n",
       "      <td>0.974444</td>\n",
       "      <td>3.152015</td>\n",
       "      <td>1.234044</td>\n",
       "      <td>1.191200</td>\n",
       "      <td>1.613771</td>\n",
       "      <td>0.959177</td>\n",
       "      <td>13.365417</td>\n",
       "      <td>...</td>\n",
       "      <td>14.047844</td>\n",
       "      <td>0.895121</td>\n",
       "      <td>2.878892</td>\n",
       "      <td>0.615002</td>\n",
       "      <td>0.315300</td>\n",
       "      <td>0.319947</td>\n",
       "      <td>0.026884</td>\n",
       "      <td>0.324593</td>\n",
       "      <td>0.362761</td>\n",
       "      <td>0.295055</td>\n",
       "    </tr>\n",
       "    <tr>\n",
       "      <th>std</th>\n",
       "      <td>100.656553</td>\n",
       "      <td>594.440620</td>\n",
       "      <td>0.40744</td>\n",
       "      <td>0.157832</td>\n",
       "      <td>1.811690</td>\n",
       "      <td>0.500303</td>\n",
       "      <td>0.751843</td>\n",
       "      <td>0.978213</td>\n",
       "      <td>0.197913</td>\n",
       "      <td>3.847555</td>\n",
       "      <td>...</td>\n",
       "      <td>22.892149</td>\n",
       "      <td>0.306448</td>\n",
       "      <td>4.585348</td>\n",
       "      <td>0.486676</td>\n",
       "      <td>0.464713</td>\n",
       "      <td>0.466533</td>\n",
       "      <td>0.161770</td>\n",
       "      <td>0.468300</td>\n",
       "      <td>0.480877</td>\n",
       "      <td>0.456143</td>\n",
       "    </tr>\n",
       "    <tr>\n",
       "      <th>min</th>\n",
       "      <td>10.000000</td>\n",
       "      <td>1854.000000</td>\n",
       "      <td>0.00000</td>\n",
       "      <td>0.000000</td>\n",
       "      <td>1.000000</td>\n",
       "      <td>0.000000</td>\n",
       "      <td>0.000000</td>\n",
       "      <td>1.000000</td>\n",
       "      <td>0.000000</td>\n",
       "      <td>0.000000</td>\n",
       "      <td>...</td>\n",
       "      <td>0.000000</td>\n",
       "      <td>0.000000</td>\n",
       "      <td>1.000000</td>\n",
       "      <td>0.000000</td>\n",
       "      <td>0.000000</td>\n",
       "      <td>0.000000</td>\n",
       "      <td>0.000000</td>\n",
       "      <td>0.000000</td>\n",
       "      <td>0.000000</td>\n",
       "      <td>0.000000</td>\n",
       "    </tr>\n",
       "    <tr>\n",
       "      <th>25%</th>\n",
       "      <td>85.000000</td>\n",
       "      <td>2157.000000</td>\n",
       "      <td>1.00000</td>\n",
       "      <td>1.000000</td>\n",
       "      <td>2.000000</td>\n",
       "      <td>1.000000</td>\n",
       "      <td>1.000000</td>\n",
       "      <td>1.000000</td>\n",
       "      <td>1.000000</td>\n",
       "      <td>11.000000</td>\n",
       "      <td>...</td>\n",
       "      <td>1.000000</td>\n",
       "      <td>1.000000</td>\n",
       "      <td>1.000000</td>\n",
       "      <td>0.000000</td>\n",
       "      <td>0.000000</td>\n",
       "      <td>0.000000</td>\n",
       "      <td>0.000000</td>\n",
       "      <td>0.000000</td>\n",
       "      <td>0.000000</td>\n",
       "      <td>0.000000</td>\n",
       "    </tr>\n",
       "    <tr>\n",
       "      <th>50%</th>\n",
       "      <td>115.000000</td>\n",
       "      <td>2520.000000</td>\n",
       "      <td>1.00000</td>\n",
       "      <td>1.000000</td>\n",
       "      <td>2.000000</td>\n",
       "      <td>1.000000</td>\n",
       "      <td>1.000000</td>\n",
       "      <td>1.000000</td>\n",
       "      <td>1.000000</td>\n",
       "      <td>14.000000</td>\n",
       "      <td>...</td>\n",
       "      <td>4.000000</td>\n",
       "      <td>1.000000</td>\n",
       "      <td>1.000000</td>\n",
       "      <td>1.000000</td>\n",
       "      <td>0.000000</td>\n",
       "      <td>0.000000</td>\n",
       "      <td>0.000000</td>\n",
       "      <td>0.000000</td>\n",
       "      <td>0.000000</td>\n",
       "      <td>0.000000</td>\n",
       "    </tr>\n",
       "    <tr>\n",
       "      <th>75%</th>\n",
       "      <td>165.000000</td>\n",
       "      <td>2967.000000</td>\n",
       "      <td>1.00000</td>\n",
       "      <td>1.000000</td>\n",
       "      <td>4.000000</td>\n",
       "      <td>1.000000</td>\n",
       "      <td>1.000000</td>\n",
       "      <td>2.000000</td>\n",
       "      <td>1.000000</td>\n",
       "      <td>16.000000</td>\n",
       "      <td>...</td>\n",
       "      <td>16.000000</td>\n",
       "      <td>1.000000</td>\n",
       "      <td>2.000000</td>\n",
       "      <td>1.000000</td>\n",
       "      <td>1.000000</td>\n",
       "      <td>1.000000</td>\n",
       "      <td>0.000000</td>\n",
       "      <td>1.000000</td>\n",
       "      <td>1.000000</td>\n",
       "      <td>1.000000</td>\n",
       "    </tr>\n",
       "    <tr>\n",
       "      <th>max</th>\n",
       "      <td>592.666575</td>\n",
       "      <td>4407.641024</td>\n",
       "      <td>1.00000</td>\n",
       "      <td>1.000000</td>\n",
       "      <td>9.294529</td>\n",
       "      <td>3.013747</td>\n",
       "      <td>3.734761</td>\n",
       "      <td>5.256614</td>\n",
       "      <td>1.000000</td>\n",
       "      <td>26.000000</td>\n",
       "      <td>...</td>\n",
       "      <td>105.760553</td>\n",
       "      <td>1.000000</td>\n",
       "      <td>21.770801</td>\n",
       "      <td>1.000000</td>\n",
       "      <td>1.000000</td>\n",
       "      <td>1.000000</td>\n",
       "      <td>1.000000</td>\n",
       "      <td>1.000000</td>\n",
       "      <td>1.000000</td>\n",
       "      <td>1.000000</td>\n",
       "    </tr>\n",
       "  </tbody>\n",
       "</table>\n",
       "<p>8 rows × 24 columns</p>\n",
       "</div>"
      ],
      "text/plain": [
       "             price   host_since  neighbourhood_cleansed         city  \\\n",
       "count  3013.000000  3013.000000              3013.00000  3013.000000   \n",
       "mean    144.455691  2623.953177                 0.78991     0.974444   \n",
       "std     100.656553   594.440620                 0.40744     0.157832   \n",
       "min      10.000000  1854.000000                 0.00000     0.000000   \n",
       "25%      85.000000  2157.000000                 1.00000     1.000000   \n",
       "50%     115.000000  2520.000000                 1.00000     1.000000   \n",
       "75%     165.000000  2967.000000                 1.00000     1.000000   \n",
       "max     592.666575  4407.641024                 1.00000     1.000000   \n",
       "\n",
       "       accommodates    bathrooms     bedrooms         beds     bed_type  \\\n",
       "count   3013.000000  3013.000000  3013.000000  3013.000000  3013.000000   \n",
       "mean       3.152015     1.234044     1.191200     1.613771     0.959177   \n",
       "std        1.811690     0.500303     0.751843     0.978213     0.197913   \n",
       "min        1.000000     0.000000     0.000000     1.000000     0.000000   \n",
       "25%        2.000000     1.000000     1.000000     1.000000     1.000000   \n",
       "50%        2.000000     1.000000     1.000000     1.000000     1.000000   \n",
       "75%        4.000000     1.000000     1.000000     2.000000     1.000000   \n",
       "max        9.294529     3.013747     3.734761     5.256614     1.000000   \n",
       "\n",
       "         amenities  ...  number_of_reviews  instant_bookable  \\\n",
       "count  3013.000000  ...        3013.000000       3013.000000   \n",
       "mean     13.365417  ...          14.047844          0.895121   \n",
       "std       3.847555  ...          22.892149          0.306448   \n",
       "min       0.000000  ...           0.000000          0.000000   \n",
       "25%      11.000000  ...           1.000000          1.000000   \n",
       "50%      14.000000  ...           4.000000          1.000000   \n",
       "75%      16.000000  ...          16.000000          1.000000   \n",
       "max      26.000000  ...         105.760553          1.000000   \n",
       "\n",
       "       calculated_host_listings_count    apartment        house  private_room  \\\n",
       "count                     3013.000000  3013.000000  3013.000000   3013.000000   \n",
       "mean                         2.878892     0.615002     0.315300      0.319947   \n",
       "std                          4.585348     0.486676     0.464713      0.466533   \n",
       "min                          1.000000     0.000000     0.000000      0.000000   \n",
       "25%                          1.000000     0.000000     0.000000      0.000000   \n",
       "50%                          1.000000     1.000000     0.000000      0.000000   \n",
       "75%                          2.000000     1.000000     1.000000      1.000000   \n",
       "max                         21.770801     1.000000     1.000000      1.000000   \n",
       "\n",
       "       shared_room  strict_cancel  flexible_cancel  moderate_cancel  \n",
       "count  3013.000000    3013.000000      3013.000000      3013.000000  \n",
       "mean      0.026884       0.324593         0.362761         0.295055  \n",
       "std       0.161770       0.468300         0.480877         0.456143  \n",
       "min       0.000000       0.000000         0.000000         0.000000  \n",
       "25%       0.000000       0.000000         0.000000         0.000000  \n",
       "50%       0.000000       0.000000         0.000000         0.000000  \n",
       "75%       0.000000       1.000000         1.000000         1.000000  \n",
       "max       1.000000       1.000000         1.000000         1.000000  \n",
       "\n",
       "[8 rows x 24 columns]"
      ]
     },
     "execution_count": 19,
     "metadata": {},
     "output_type": "execute_result"
    }
   ],
   "source": [
    "data.describe()"
   ]
  },
  {
   "cell_type": "code",
   "execution_count": 23,
   "metadata": {},
   "outputs": [],
   "source": [
    "categorical = ['amenities',\n",
    " 'bed_type',\n",
    " 'private_room',\n",
    " 'shared_room',\n",
    " 'apartment',\n",
    " 'house',\n",
    " 'instant_bookable',\n",
    " 'moderate_cancel',\n",
    " 'flexible_cancel',\n",
    " 'strict_cancel',\n",
    " 'city',\n",
    " 'neighbourhood_cleansed',\n",
    " 'price']\n",
    "numeral = ['bathrooms','bedrooms','beds','cleaning_fee','calculated_host_listings_count', 'guests_included'\n",
    "          , 'maximum_nights', 'minimum_nights', 'price', 'host_since', 'accommodates', 'number_of_reviews']"
   ]
  },
  {
   "cell_type": "code",
   "execution_count": 20,
   "metadata": {},
   "outputs": [],
   "source": [
    "df = data.copy()"
   ]
  },
  {
   "cell_type": "code",
   "execution_count": 24,
   "metadata": {},
   "outputs": [
    {
     "data": {
      "image/png": "[encoded data removed]",
      "text/plain": [
       "<Figure size 432x288 with 2 Axes>"
      ]
     },
     "metadata": {
      "needs_background": "light"
     },
     "output_type": "display_data"
    }
   ],
   "source": [
    "corrMatrix = round(df[categorical].corr(),1)\n",
    "sns.heatmap(corrMatrix, annot=True)\n",
    "plt.show()"
   ]
  },
  {
   "cell_type": "code",
   "execution_count": 21,
   "metadata": {},
   "outputs": [
    {
     "data": {
      "image/png": "[encoded data removed]",
      "text/plain": [
       "<Figure size 432x288 with 2 Axes>"
      ]
     },
     "metadata": {
      "needs_background": "light"
     },
     "output_type": "display_data"
    }
   ],
   "source": [
    "corrMatrix = round(df[numeral].corr(),1)\n",
    "sns.heatmap(corrMatrix, annot=True)\n",
    "plt.show()"
   ]
  },
  {
   "cell_type": "markdown",
   "metadata": {},
   "source": [
    "Результативная переменная Price наиболее сильно коррелирует с переменными bathrooms, bedrooms, beds, cleaning_fee, accommodates, private room. С остальными переменными корреляция слабая (к-т корреляции менее 0,4)\n",
    "\n",
    "Для построение однофакторной модели возьмем переменную accommodates, а затем bedrooms (поскольку они имею наивысшие к-ты корреляции)."
   ]
  },
  {
   "cell_type": "code",
   "execution_count": 70,
   "metadata": {},
   "outputs": [],
   "source": [
    "# Создаиние тестовой и обучающей выборки\n",
    "X = df.iloc[:, 1:].values\n",
    "y = df.iloc[:, 0].values\n",
    "from sklearn.model_selection import train_test_split\n",
    "X_train, X_test, y_train, y_test = train_test_split(X, y, test_size=0.2, random_state=3)"
   ]
  },
  {
   "cell_type": "code",
   "execution_count": 83,
   "metadata": {},
   "outputs": [],
   "source": [
    "summary = pd.DataFrame()\n",
    "summary['model'] = ['simle_linear_accomodates']"
   ]
  },
  {
   "cell_type": "code",
   "execution_count": 84,
   "metadata": {},
   "outputs": [],
   "source": [
    "# Fitting Simple Linear Regression to the Training set (engine-size)\n",
    "from sklearn.linear_model import LinearRegression\n",
    "sr=LinearRegression().fit(X_train[:, 4:5], y_train)"
   ]
  },
  {
   "cell_type": "code",
   "execution_count": 85,
   "metadata": {},
   "outputs": [
    {
     "data": {
      "text/plain": [
       "(array([102.27890569]), 17.50705670459962)"
      ]
     },
     "execution_count": 85,
     "metadata": {},
     "output_type": "execute_result"
    }
   ],
   "source": [
    "# Getting parameters\n",
    "sr.coef_, sr.intercept_"
   ]
  },
  {
   "cell_type": "code",
   "execution_count": 86,
   "metadata": {},
   "outputs": [],
   "source": [
    "# Predicting the Test set results\n",
    "y_pred=sr.predict(X_test[:,  4:5])"
   ]
  },
  {
   "cell_type": "code",
   "execution_count": 87,
   "metadata": {},
   "outputs": [
    {
     "data": {
      "text/html": [
       "<div>\n",
       "<style scoped>\n",
       "    .dataframe tbody tr th:only-of-type {\n",
       "        vertical-align: middle;\n",
       "    }\n",
       "\n",
       "    .dataframe tbody tr th {\n",
       "        vertical-align: top;\n",
       "    }\n",
       "\n",
       "    .dataframe thead th {\n",
       "        text-align: right;\n",
       "    }\n",
       "</style>\n",
       "<table border=\"1\" class=\"dataframe\">\n",
       "  <thead>\n",
       "    <tr style=\"text-align: right;\">\n",
       "      <th></th>\n",
       "      <th>model</th>\n",
       "      <th>R2_train</th>\n",
       "      <th>R2_test</th>\n",
       "    </tr>\n",
       "  </thead>\n",
       "  <tbody>\n",
       "    <tr>\n",
       "      <th>0</th>\n",
       "      <td>simle_linear_accomodates</td>\n",
       "      <td>0.255</td>\n",
       "      <td>0.247</td>\n",
       "    </tr>\n",
       "  </tbody>\n",
       "</table>\n",
       "</div>"
      ],
      "text/plain": [
       "                      model  R2_train  R2_test\n",
       "0  simle_linear_accomodates     0.255    0.247"
      ]
     },
     "execution_count": 87,
     "metadata": {},
     "output_type": "execute_result"
    }
   ],
   "source": [
    "# Coefficient of determination R^2\n",
    "sr.score(X_train[:, 4:5], y_train), sr.score(X_test[:, 4:5], y_test)\n",
    "summary['R2_train'] = [round(sr.score(X_train[:, 4:5], y_train),3)]\n",
    "summary['R2_test'] = [round(sr.score(X_test[:, 4:5], y_test),3)]\n",
    "summary"
   ]
  },
  {
   "cell_type": "code",
   "execution_count": 88,
   "metadata": {},
   "outputs": [
    {
     "data": {
      "text/html": [
       "<div>\n",
       "<style scoped>\n",
       "    .dataframe tbody tr th:only-of-type {\n",
       "        vertical-align: middle;\n",
       "    }\n",
       "\n",
       "    .dataframe tbody tr th {\n",
       "        vertical-align: top;\n",
       "    }\n",
       "\n",
       "    .dataframe thead th {\n",
       "        text-align: right;\n",
       "    }\n",
       "</style>\n",
       "<table border=\"1\" class=\"dataframe\">\n",
       "  <thead>\n",
       "    <tr style=\"text-align: right;\">\n",
       "      <th></th>\n",
       "      <th>model</th>\n",
       "      <th>R2_train</th>\n",
       "      <th>R2_test</th>\n",
       "      <th>MSE_train</th>\n",
       "      <th>MSE_test</th>\n",
       "    </tr>\n",
       "  </thead>\n",
       "  <tbody>\n",
       "    <tr>\n",
       "      <th>0</th>\n",
       "      <td>simle_linear_accomodates</td>\n",
       "      <td>0.255</td>\n",
       "      <td>0.247</td>\n",
       "      <td>7592.33</td>\n",
       "      <td>7423.67</td>\n",
       "    </tr>\n",
       "  </tbody>\n",
       "</table>\n",
       "</div>"
      ],
      "text/plain": [
       "                      model  R2_train  R2_test  MSE_train  MSE_test\n",
       "0  simle_linear_accomodates     0.255    0.247    7592.33   7423.67"
      ]
     },
     "execution_count": 88,
     "metadata": {},
     "output_type": "execute_result"
    }
   ],
   "source": [
    "# Mean Squared Error\n",
    "from sklearn.metrics import mean_squared_error\n",
    "summary['MSE_train'] = [round(mean_squared_error(y_train, sr.predict(X_train[:, 4:5])),2)]\n",
    "summary['MSE_test'] = [round(mean_squared_error(y_test, y_pred),2)]\n",
    "summary"
   ]
  },
  {
   "cell_type": "code",
   "execution_count": 89,
   "metadata": {},
   "outputs": [
    {
     "data": {
      "image/png": "[encoded data removed]",
      "text/plain": [
       "<Figure size 432x288 with 1 Axes>"
      ]
     },
     "metadata": {
      "needs_background": "light"
     },
     "output_type": "display_data"
    }
   ],
   "source": [
    "# Visualising the Training set results\n",
    "plt.scatter(X_train[:, 4], y_train, color='red')\n",
    "plt.plot(X_train[:, 4], sr.predict(X_train[:, 4:5]), 'bo')\n",
    "plt.title('Price vs Accomodetes')\n",
    "plt.xlabel('Accomodetes')\n",
    "plt.ylabel('Price')\n",
    "plt.show()"
   ]
  },
  {
   "cell_type": "code",
   "execution_count": 90,
   "metadata": {},
   "outputs": [
    {
     "data": {
      "image/png": "[encoded data removed]",
      "text/plain": [
       "<Figure size 432x288 with 1 Axes>"
      ]
     },
     "metadata": {
      "needs_background": "light"
     },
     "output_type": "display_data"
    }
   ],
   "source": [
    "# Visualising the Test set results\n",
    "plt.scatter(X_test[:, 4], y_test, color='red')\n",
    "plt.plot(X_test[:, 4], sr.predict(X_test[:, 4:5]), 'bo')\n",
    "plt.title('Price vs Accomodetes')\n",
    "plt.xlabel('Accomodetes')\n",
    "plt.ylabel('Price')\n",
    "plt.show()"
   ]
  },
  {
   "cell_type": "markdown",
   "metadata": {},
   "source": [
    "Модель низкого качества. Коеффициент детерминации очень мал (0.25 на обучающей и 0.24 на тестовой выборке). \n",
    "\n",
    "Построим однофакторную модель с фактором bedrooms."
   ]
  },
  {
   "cell_type": "code",
   "execution_count": 91,
   "metadata": {},
   "outputs": [],
   "source": [
    "# Fitting Simple Linear Regression to the Training set (engine-size)\n",
    "from sklearn.linear_model import LinearRegression\n",
    "sr=LinearRegression().fit(X_train[:, 6:7], y_train)"
   ]
  },
  {
   "cell_type": "code",
   "execution_count": 92,
   "metadata": {},
   "outputs": [
    {
     "data": {
      "text/plain": [
       "(array([54.77196747]), 56.77927711862388)"
      ]
     },
     "execution_count": 92,
     "metadata": {},
     "output_type": "execute_result"
    }
   ],
   "source": [
    "# Getting parameters\n",
    "sr.coef_, sr.intercept_"
   ]
  },
  {
   "cell_type": "code",
   "execution_count": 93,
   "metadata": {},
   "outputs": [],
   "source": [
    "# Predicting the Test set results\n",
    "y_pred=sr.predict(X_test[:,  6:7])"
   ]
  },
  {
   "cell_type": "code",
   "execution_count": 94,
   "metadata": {},
   "outputs": [
    {
     "data": {
      "text/plain": [
       "(0.25949968398687506, 0.3254136890026309)"
      ]
     },
     "execution_count": 94,
     "metadata": {},
     "output_type": "execute_result"
    }
   ],
   "source": [
    "# Coefficient of determination R^2\n",
    "sr.score(X_train[:, 6:7], y_train), sr.score(X_test[:, 6:7], y_test)"
   ]
  },
  {
   "cell_type": "code",
   "execution_count": 95,
   "metadata": {},
   "outputs": [
    {
     "data": {
      "text/plain": [
       "(7545.870833560647, 6651.374520039004)"
      ]
     },
     "execution_count": 95,
     "metadata": {},
     "output_type": "execute_result"
    }
   ],
   "source": [
    "# Mean Squared Error\n",
    "from sklearn.metrics import mean_squared_error\n",
    "mean_squared_error(y_train, sr.predict(X_train[:, 6:7])), mean_squared_error(y_test, y_pred)"
   ]
  },
  {
   "cell_type": "code",
   "execution_count": 96,
   "metadata": {},
   "outputs": [
    {
     "data": {
      "image/png": "[encoded data removed]",
      "text/plain": [
       "<Figure size 432x288 with 1 Axes>"
      ]
     },
     "metadata": {
      "needs_background": "light"
     },
     "output_type": "display_data"
    }
   ],
   "source": [
    "# Visualising the Training set results\n",
    "plt.scatter(X_train[:, 6], y_train, color='red')\n",
    "plt.plot(X_train[:, 6], sr.predict(X_train[:, 6:7]), 'bo')\n",
    "plt.title('Price vs Accomodetes')\n",
    "plt.xlabel('Accomodetes')\n",
    "plt.ylabel('Price')\n",
    "plt.show()"
   ]
  },
  {
   "cell_type": "code",
   "execution_count": 97,
   "metadata": {},
   "outputs": [
    {
     "data": {
      "image/png": "[encoded data removed]",
      "text/plain": [
       "<Figure size 432x288 with 1 Axes>"
      ]
     },
     "metadata": {
      "needs_background": "light"
     },
     "output_type": "display_data"
    }
   ],
   "source": [
    "# Visualising the Test set results\n",
    "plt.scatter(X_test[:, 6], y_test, color='red')\n",
    "plt.plot(X_test[:, 6], sr.predict(X_test[:, 6:7]), 'bo')\n",
    "plt.title('Price vs Accomodetes')\n",
    "plt.xlabel('Accomodetes')\n",
    "plt.ylabel('Price')\n",
    "plt.show()"
   ]
  },
  {
   "cell_type": "code",
   "execution_count": 98,
   "metadata": {},
   "outputs": [],
   "source": [
    "summary = summary.append({'model':'simple_linear_bedrooms',\n",
    "                         'R2_train':round(sr.score(X_train[:, 6:7], y_train),3),\n",
    "                         'R2_test':round( sr.score(X_test[:, 6:7], y_test),3),\n",
    "                         'MSE_train':round(mean_squared_error(y_train, sr.predict(X_train[:, 6:7])),2),\n",
    "                         'MSE_test': round(mean_squared_error(y_test, y_pred),2)}, ignore_index=True) "
   ]
  },
  {
   "cell_type": "code",
   "execution_count": 99,
   "metadata": {},
   "outputs": [
    {
     "data": {
      "text/html": [
       "<div>\n",
       "<style scoped>\n",
       "    .dataframe tbody tr th:only-of-type {\n",
       "        vertical-align: middle;\n",
       "    }\n",
       "\n",
       "    .dataframe tbody tr th {\n",
       "        vertical-align: top;\n",
       "    }\n",
       "\n",
       "    .dataframe thead th {\n",
       "        text-align: right;\n",
       "    }\n",
       "</style>\n",
       "<table border=\"1\" class=\"dataframe\">\n",
       "  <thead>\n",
       "    <tr style=\"text-align: right;\">\n",
       "      <th></th>\n",
       "      <th>model</th>\n",
       "      <th>R2_train</th>\n",
       "      <th>R2_test</th>\n",
       "      <th>MSE_train</th>\n",
       "      <th>MSE_test</th>\n",
       "    </tr>\n",
       "  </thead>\n",
       "  <tbody>\n",
       "    <tr>\n",
       "      <th>0</th>\n",
       "      <td>simle_linear_accomodates</td>\n",
       "      <td>0.255</td>\n",
       "      <td>0.247</td>\n",
       "      <td>7592.33</td>\n",
       "      <td>7423.67</td>\n",
       "    </tr>\n",
       "    <tr>\n",
       "      <th>1</th>\n",
       "      <td>simple_linear_bedrooms</td>\n",
       "      <td>0.259</td>\n",
       "      <td>0.325</td>\n",
       "      <td>7545.87</td>\n",
       "      <td>6651.37</td>\n",
       "    </tr>\n",
       "  </tbody>\n",
       "</table>\n",
       "</div>"
      ],
      "text/plain": [
       "                      model  R2_train  R2_test  MSE_train  MSE_test\n",
       "0  simle_linear_accomodates     0.255    0.247    7592.33   7423.67\n",
       "1    simple_linear_bedrooms     0.259    0.325    7545.87   6651.37"
      ]
     },
     "execution_count": 99,
     "metadata": {},
     "output_type": "execute_result"
    }
   ],
   "source": [
    "summary"
   ]
  },
  {
   "cell_type": "markdown",
   "metadata": {},
   "source": [
    "Однофакторная модель с фактором bedrooms показывает лучшие результаты.\n",
    "\n",
    "Построим многофакторную модель и оценим p-значения для каждого фактора."
   ]
  },
  {
   "cell_type": "code",
   "execution_count": 127,
   "metadata": {},
   "outputs": [],
   "source": [
    "# Fitting Multiple Linear Regression to the Training set\n",
    "from sklearn.linear_model import LinearRegression\n",
    "mr=LinearRegression().fit(X_train, y_train)"
   ]
  },
  {
   "cell_type": "code",
   "execution_count": 128,
   "metadata": {},
   "outputs": [
    {
     "data": {
      "text/plain": [
       "(array([-1.69999586e-02,  1.33525330e+01,  8.80076649e+00,  1.11645885e+01,\n",
       "         4.13080186e+01,  3.65390654e+01, -5.23337837e+00,  1.61100140e+00,\n",
       "         8.49404800e-01,  1.56021267e-01, -1.33861943e+00, -1.80567567e+00,\n",
       "        -9.39800008e-06, -1.53711363e-01,  9.63377111e+00,  3.06256240e+00,\n",
       "         2.59607765e+00, -1.02753940e+00, -4.30229239e+01, -6.14234743e+01,\n",
       "        -1.05490305e+02, -9.92988372e+01, -1.10417645e+02]),\n",
       " 138.6815783866153)"
      ]
     },
     "execution_count": 128,
     "metadata": {},
     "output_type": "execute_result"
    }
   ],
   "source": [
    "# Getting parameters\n",
    "mr.coef_, mr.intercept_"
   ]
  },
  {
   "cell_type": "code",
   "execution_count": 129,
   "metadata": {},
   "outputs": [],
   "source": [
    "# Predicting the Test set results\n",
    "y_pred=mr.predict(X_test)"
   ]
  },
  {
   "cell_type": "code",
   "execution_count": 130,
   "metadata": {},
   "outputs": [
    {
     "data": {
      "text/plain": [
       "(0.5133629547227267, 0.26037550855093283)"
      ]
     },
     "execution_count": 130,
     "metadata": {},
     "output_type": "execute_result"
    }
   ],
   "source": [
    "# Coefficient of determination R^2\n",
    "mr.score(X_train, y_train), mr.score(X_test, y_test)"
   ]
  },
  {
   "cell_type": "code",
   "execution_count": 132,
   "metadata": {},
   "outputs": [
    {
     "data": {
      "text/plain": [
       "(4958.944928286597, 7292.646495520596)"
      ]
     },
     "execution_count": 132,
     "metadata": {},
     "output_type": "execute_result"
    }
   ],
   "source": [
    "# Mean Squared Error\n",
    "from sklearn.metrics import mean_squared_error\n",
    "mean_squared_error(y_train, mr.predict(X_train)), mean_squared_error(y_test, y_pred)"
   ]
  },
  {
   "cell_type": "code",
   "execution_count": 131,
   "metadata": {},
   "outputs": [
    {
     "data": {
      "text/html": [
       "<table class=\"simpletable\">\n",
       "<caption>OLS Regression Results</caption>\n",
       "<tr>\n",
       "  <th>Dep. Variable:</th>            <td>y</td>        <th>  R-squared:         </th> <td>   0.513</td> \n",
       "</tr>\n",
       "<tr>\n",
       "  <th>Model:</th>                   <td>OLS</td>       <th>  Adj. R-squared:    </th> <td>   0.509</td> \n",
       "</tr>\n",
       "<tr>\n",
       "  <th>Method:</th>             <td>Least Squares</td>  <th>  F-statistic:       </th> <td>   109.4</td> \n",
       "</tr>\n",
       "<tr>\n",
       "  <th>Date:</th>             <td>Wed, 28 Oct 2020</td> <th>  Prob (F-statistic):</th>  <td>  0.00</td>  \n",
       "</tr>\n",
       "<tr>\n",
       "  <th>Time:</th>                 <td>13:36:08</td>     <th>  Log-Likelihood:    </th> <td> -13673.</td> \n",
       "</tr>\n",
       "<tr>\n",
       "  <th>No. Observations:</th>      <td>  2410</td>      <th>  AIC:               </th> <td>2.739e+04</td>\n",
       "</tr>\n",
       "<tr>\n",
       "  <th>Df Residuals:</th>          <td>  2386</td>      <th>  BIC:               </th> <td>2.753e+04</td>\n",
       "</tr>\n",
       "<tr>\n",
       "  <th>Df Model:</th>              <td>    23</td>      <th>                     </th>     <td> </td>    \n",
       "</tr>\n",
       "<tr>\n",
       "  <th>Covariance Type:</th>      <td>nonrobust</td>    <th>                     </th>     <td> </td>    \n",
       "</tr>\n",
       "</table>\n",
       "<table class=\"simpletable\">\n",
       "<tr>\n",
       "    <td></td>       <th>coef</th>     <th>std err</th>      <th>t</th>      <th>P>|t|</th>  <th>[0.025</th>    <th>0.975]</th>  \n",
       "</tr>\n",
       "<tr>\n",
       "  <th>const</th> <td>  138.6816</td> <td>   22.522</td> <td>    6.158</td> <td> 0.000</td> <td>   94.517</td> <td>  182.846</td>\n",
       "</tr>\n",
       "<tr>\n",
       "  <th>x1</th>    <td>   -0.0170</td> <td>    0.003</td> <td>   -5.995</td> <td> 0.000</td> <td>   -0.023</td> <td>   -0.011</td>\n",
       "</tr>\n",
       "<tr>\n",
       "  <th>x2</th>    <td>   13.3525</td> <td>    3.651</td> <td>    3.657</td> <td> 0.000</td> <td>    6.193</td> <td>   20.512</td>\n",
       "</tr>\n",
       "<tr>\n",
       "  <th>x3</th>    <td>    8.8008</td> <td>    8.911</td> <td>    0.988</td> <td> 0.323</td> <td>   -8.673</td> <td>   26.274</td>\n",
       "</tr>\n",
       "<tr>\n",
       "  <th>x4</th>    <td>   11.1646</td> <td>    1.694</td> <td>    6.591</td> <td> 0.000</td> <td>    7.843</td> <td>   14.486</td>\n",
       "</tr>\n",
       "<tr>\n",
       "  <th>x5</th>    <td>   41.3080</td> <td>    3.934</td> <td>   10.499</td> <td> 0.000</td> <td>   33.593</td> <td>   49.023</td>\n",
       "</tr>\n",
       "<tr>\n",
       "  <th>x6</th>    <td>   36.5391</td> <td>    3.256</td> <td>   11.223</td> <td> 0.000</td> <td>   30.155</td> <td>   42.923</td>\n",
       "</tr>\n",
       "<tr>\n",
       "  <th>x7</th>    <td>   -5.2334</td> <td>    2.905</td> <td>   -1.801</td> <td> 0.072</td> <td>  -10.930</td> <td>    0.464</td>\n",
       "</tr>\n",
       "<tr>\n",
       "  <th>x8</th>    <td>    1.6110</td> <td>    7.431</td> <td>    0.217</td> <td> 0.828</td> <td>  -12.960</td> <td>   16.182</td>\n",
       "</tr>\n",
       "<tr>\n",
       "  <th>x9</th>    <td>    0.8494</td> <td>    0.392</td> <td>    2.165</td> <td> 0.030</td> <td>    0.080</td> <td>    1.619</td>\n",
       "</tr>\n",
       "<tr>\n",
       "  <th>x10</th>   <td>    0.1560</td> <td>    0.044</td> <td>    3.570</td> <td> 0.000</td> <td>    0.070</td> <td>    0.242</td>\n",
       "</tr>\n",
       "<tr>\n",
       "  <th>x11</th>   <td>   -1.3386</td> <td>    1.613</td> <td>   -0.830</td> <td> 0.407</td> <td>   -4.502</td> <td>    1.825</td>\n",
       "</tr>\n",
       "<tr>\n",
       "  <th>x12</th>   <td>   -1.8057</td> <td>    0.837</td> <td>   -2.156</td> <td> 0.031</td> <td>   -3.448</td> <td>   -0.164</td>\n",
       "</tr>\n",
       "<tr>\n",
       "  <th>x13</th>   <td>-9.398e-06</td> <td> 7.15e-06</td> <td>   -1.315</td> <td> 0.189</td> <td>-2.34e-05</td> <td> 4.62e-06</td>\n",
       "</tr>\n",
       "<tr>\n",
       "  <th>x14</th>   <td>   -0.1537</td> <td>    0.071</td> <td>   -2.150</td> <td> 0.032</td> <td>   -0.294</td> <td>   -0.014</td>\n",
       "</tr>\n",
       "<tr>\n",
       "  <th>x15</th>   <td>    9.6338</td> <td>    4.774</td> <td>    2.018</td> <td> 0.044</td> <td>    0.272</td> <td>   18.995</td>\n",
       "</tr>\n",
       "<tr>\n",
       "  <th>x16</th>   <td>    3.0626</td> <td>    0.350</td> <td>    8.759</td> <td> 0.000</td> <td>    2.377</td> <td>    3.748</td>\n",
       "</tr>\n",
       "<tr>\n",
       "  <th>x17</th>   <td>    2.5961</td> <td>    6.103</td> <td>    0.425</td> <td> 0.671</td> <td>   -9.372</td> <td>   14.565</td>\n",
       "</tr>\n",
       "<tr>\n",
       "  <th>x18</th>   <td>   -1.0275</td> <td>    6.226</td> <td>   -0.165</td> <td> 0.869</td> <td>  -13.236</td> <td>   11.181</td>\n",
       "</tr>\n",
       "<tr>\n",
       "  <th>x19</th>   <td>  -43.0229</td> <td>    4.249</td> <td>  -10.125</td> <td> 0.000</td> <td>  -51.355</td> <td>  -34.690</td>\n",
       "</tr>\n",
       "<tr>\n",
       "  <th>x20</th>   <td>  -61.4235</td> <td>    9.089</td> <td>   -6.758</td> <td> 0.000</td> <td>  -79.247</td> <td>  -43.600</td>\n",
       "</tr>\n",
       "<tr>\n",
       "  <th>x21</th>   <td> -105.4903</td> <td>   12.447</td> <td>   -8.475</td> <td> 0.000</td> <td> -129.898</td> <td>  -81.083</td>\n",
       "</tr>\n",
       "<tr>\n",
       "  <th>x22</th>   <td>  -99.2988</td> <td>   12.645</td> <td>   -7.853</td> <td> 0.000</td> <td> -124.096</td> <td>  -74.502</td>\n",
       "</tr>\n",
       "<tr>\n",
       "  <th>x23</th>   <td> -110.4176</td> <td>   12.539</td> <td>   -8.806</td> <td> 0.000</td> <td> -135.005</td> <td>  -85.830</td>\n",
       "</tr>\n",
       "</table>\n",
       "<table class=\"simpletable\">\n",
       "<tr>\n",
       "  <th>Omnibus:</th>       <td>1388.035</td> <th>  Durbin-Watson:     </th> <td>   2.011</td> \n",
       "</tr>\n",
       "<tr>\n",
       "  <th>Prob(Omnibus):</th>  <td> 0.000</td>  <th>  Jarque-Bera (JB):  </th> <td>16621.161</td>\n",
       "</tr>\n",
       "<tr>\n",
       "  <th>Skew:</th>           <td> 2.504</td>  <th>  Prob(JB):          </th> <td>    0.00</td> \n",
       "</tr>\n",
       "<tr>\n",
       "  <th>Kurtosis:</th>       <td>14.851</td>  <th>  Cond. No.          </th> <td>4.05e+06</td> \n",
       "</tr>\n",
       "</table><br/><br/>Warnings:<br/>[1] Standard Errors assume that the covariance matrix of the errors is correctly specified.<br/>[2] The condition number is large, 4.05e+06. This might indicate that there are<br/>strong multicollinearity or other numerical problems."
      ],
      "text/plain": [
       "<class 'statsmodels.iolib.summary.Summary'>\n",
       "\"\"\"\n",
       "                            OLS Regression Results                            \n",
       "==============================================================================\n",
       "Dep. Variable:                      y   R-squared:                       0.513\n",
       "Model:                            OLS   Adj. R-squared:                  0.509\n",
       "Method:                 Least Squares   F-statistic:                     109.4\n",
       "Date:                Wed, 28 Oct 2020   Prob (F-statistic):               0.00\n",
       "Time:                        13:36:08   Log-Likelihood:                -13673.\n",
       "No. Observations:                2410   AIC:                         2.739e+04\n",
       "Df Residuals:                    2386   BIC:                         2.753e+04\n",
       "Df Model:                          23                                         \n",
       "Covariance Type:            nonrobust                                         \n",
       "==============================================================================\n",
       "                 coef    std err          t      P>|t|      [0.025      0.975]\n",
       "------------------------------------------------------------------------------\n",
       "const        138.6816     22.522      6.158      0.000      94.517     182.846\n",
       "x1            -0.0170      0.003     -5.995      0.000      -0.023      -0.011\n",
       "x2            13.3525      3.651      3.657      0.000       6.193      20.512\n",
       "x3             8.8008      8.911      0.988      0.323      -8.673      26.274\n",
       "x4            11.1646      1.694      6.591      0.000       7.843      14.486\n",
       "x5            41.3080      3.934     10.499      0.000      33.593      49.023\n",
       "x6            36.5391      3.256     11.223      0.000      30.155      42.923\n",
       "x7            -5.2334      2.905     -1.801      0.072     -10.930       0.464\n",
       "x8             1.6110      7.431      0.217      0.828     -12.960      16.182\n",
       "x9             0.8494      0.392      2.165      0.030       0.080       1.619\n",
       "x10            0.1560      0.044      3.570      0.000       0.070       0.242\n",
       "x11           -1.3386      1.613     -0.830      0.407      -4.502       1.825\n",
       "x12           -1.8057      0.837     -2.156      0.031      -3.448      -0.164\n",
       "x13        -9.398e-06   7.15e-06     -1.315      0.189   -2.34e-05    4.62e-06\n",
       "x14           -0.1537      0.071     -2.150      0.032      -0.294      -0.014\n",
       "x15            9.6338      4.774      2.018      0.044       0.272      18.995\n",
       "x16            3.0626      0.350      8.759      0.000       2.377       3.748\n",
       "x17            2.5961      6.103      0.425      0.671      -9.372      14.565\n",
       "x18           -1.0275      6.226     -0.165      0.869     -13.236      11.181\n",
       "x19          -43.0229      4.249    -10.125      0.000     -51.355     -34.690\n",
       "x20          -61.4235      9.089     -6.758      0.000     -79.247     -43.600\n",
       "x21         -105.4903     12.447     -8.475      0.000    -129.898     -81.083\n",
       "x22          -99.2988     12.645     -7.853      0.000    -124.096     -74.502\n",
       "x23         -110.4176     12.539     -8.806      0.000    -135.005     -85.830\n",
       "==============================================================================\n",
       "Omnibus:                     1388.035   Durbin-Watson:                   2.011\n",
       "Prob(Omnibus):                  0.000   Jarque-Bera (JB):            16621.161\n",
       "Skew:                           2.504   Prob(JB):                         0.00\n",
       "Kurtosis:                      14.851   Cond. No.                     4.05e+06\n",
       "==============================================================================\n",
       "\n",
       "Warnings:\n",
       "[1] Standard Errors assume that the covariance matrix of the errors is correctly specified.\n",
       "[2] The condition number is large, 4.05e+06. This might indicate that there are\n",
       "strong multicollinearity or other numerical problems.\n",
       "\"\"\""
      ]
     },
     "execution_count": 131,
     "metadata": {},
     "output_type": "execute_result"
    }
   ],
   "source": [
    "# p-values\n",
    "import statsmodels.api as sm\n",
    "X_const=sm.add_constant(X_train)\n",
    "mr1=sm.OLS(y_train, X_const).fit()\n",
    "mr1.pvalues\n",
    "mr1.summary()"
   ]
  },
  {
   "cell_type": "code",
   "execution_count": 123,
   "metadata": {},
   "outputs": [],
   "source": [
    "x_names = pd.DataFrame()\n",
    "x_names['number'] = list(range(1,len(df.iloc[:,1:].columns)+1))\n",
    "x_names['name'] =df.iloc[:,1:].columns"
   ]
  },
  {
   "cell_type": "code",
   "execution_count": 124,
   "metadata": {},
   "outputs": [
    {
     "data": {
      "text/html": [
       "<div>\n",
       "<style scoped>\n",
       "    .dataframe tbody tr th:only-of-type {\n",
       "        vertical-align: middle;\n",
       "    }\n",
       "\n",
       "    .dataframe tbody tr th {\n",
       "        vertical-align: top;\n",
       "    }\n",
       "\n",
       "    .dataframe thead th {\n",
       "        text-align: right;\n",
       "    }\n",
       "</style>\n",
       "<table border=\"1\" class=\"dataframe\">\n",
       "  <thead>\n",
       "    <tr style=\"text-align: right;\">\n",
       "      <th></th>\n",
       "      <th>number</th>\n",
       "      <th>name</th>\n",
       "    </tr>\n",
       "  </thead>\n",
       "  <tbody>\n",
       "    <tr>\n",
       "      <th>0</th>\n",
       "      <td>1</td>\n",
       "      <td>host_since</td>\n",
       "    </tr>\n",
       "    <tr>\n",
       "      <th>1</th>\n",
       "      <td>2</td>\n",
       "      <td>neighbourhood_cleansed</td>\n",
       "    </tr>\n",
       "    <tr>\n",
       "      <th>2</th>\n",
       "      <td>3</td>\n",
       "      <td>city</td>\n",
       "    </tr>\n",
       "    <tr>\n",
       "      <th>3</th>\n",
       "      <td>4</td>\n",
       "      <td>accommodates</td>\n",
       "    </tr>\n",
       "    <tr>\n",
       "      <th>4</th>\n",
       "      <td>5</td>\n",
       "      <td>bathrooms</td>\n",
       "    </tr>\n",
       "    <tr>\n",
       "      <th>5</th>\n",
       "      <td>6</td>\n",
       "      <td>bedrooms</td>\n",
       "    </tr>\n",
       "    <tr>\n",
       "      <th>6</th>\n",
       "      <td>7</td>\n",
       "      <td>beds</td>\n",
       "    </tr>\n",
       "    <tr>\n",
       "      <th>7</th>\n",
       "      <td>8</td>\n",
       "      <td>bed_type</td>\n",
       "    </tr>\n",
       "    <tr>\n",
       "      <th>8</th>\n",
       "      <td>9</td>\n",
       "      <td>amenities</td>\n",
       "    </tr>\n",
       "    <tr>\n",
       "      <th>9</th>\n",
       "      <td>10</td>\n",
       "      <td>cleaning_fee</td>\n",
       "    </tr>\n",
       "    <tr>\n",
       "      <th>10</th>\n",
       "      <td>11</td>\n",
       "      <td>guests_included</td>\n",
       "    </tr>\n",
       "    <tr>\n",
       "      <th>11</th>\n",
       "      <td>12</td>\n",
       "      <td>minimum_nights</td>\n",
       "    </tr>\n",
       "    <tr>\n",
       "      <th>12</th>\n",
       "      <td>13</td>\n",
       "      <td>maximum_nights</td>\n",
       "    </tr>\n",
       "    <tr>\n",
       "      <th>13</th>\n",
       "      <td>14</td>\n",
       "      <td>number_of_reviews</td>\n",
       "    </tr>\n",
       "    <tr>\n",
       "      <th>14</th>\n",
       "      <td>15</td>\n",
       "      <td>instant_bookable</td>\n",
       "    </tr>\n",
       "    <tr>\n",
       "      <th>15</th>\n",
       "      <td>16</td>\n",
       "      <td>calculated_host_listings_count</td>\n",
       "    </tr>\n",
       "    <tr>\n",
       "      <th>16</th>\n",
       "      <td>17</td>\n",
       "      <td>apartment</td>\n",
       "    </tr>\n",
       "    <tr>\n",
       "      <th>17</th>\n",
       "      <td>18</td>\n",
       "      <td>house</td>\n",
       "    </tr>\n",
       "    <tr>\n",
       "      <th>18</th>\n",
       "      <td>19</td>\n",
       "      <td>private_room</td>\n",
       "    </tr>\n",
       "    <tr>\n",
       "      <th>19</th>\n",
       "      <td>20</td>\n",
       "      <td>shared_room</td>\n",
       "    </tr>\n",
       "    <tr>\n",
       "      <th>20</th>\n",
       "      <td>21</td>\n",
       "      <td>strict_cancel</td>\n",
       "    </tr>\n",
       "    <tr>\n",
       "      <th>21</th>\n",
       "      <td>22</td>\n",
       "      <td>flexible_cancel</td>\n",
       "    </tr>\n",
       "    <tr>\n",
       "      <th>22</th>\n",
       "      <td>23</td>\n",
       "      <td>moderate_cancel</td>\n",
       "    </tr>\n",
       "  </tbody>\n",
       "</table>\n",
       "</div>"
      ],
      "text/plain": [
       "    number                            name\n",
       "0        1                      host_since\n",
       "1        2          neighbourhood_cleansed\n",
       "2        3                            city\n",
       "3        4                    accommodates\n",
       "4        5                       bathrooms\n",
       "5        6                        bedrooms\n",
       "6        7                            beds\n",
       "7        8                        bed_type\n",
       "8        9                       amenities\n",
       "9       10                    cleaning_fee\n",
       "10      11                 guests_included\n",
       "11      12                  minimum_nights\n",
       "12      13                  maximum_nights\n",
       "13      14               number_of_reviews\n",
       "14      15                instant_bookable\n",
       "15      16  calculated_host_listings_count\n",
       "16      17                       apartment\n",
       "17      18                           house\n",
       "18      19                    private_room\n",
       "19      20                     shared_room\n",
       "20      21                   strict_cancel\n",
       "21      22                 flexible_cancel\n",
       "22      23                 moderate_cancel"
      ]
     },
     "execution_count": 124,
     "metadata": {},
     "output_type": "execute_result"
    }
   ],
   "source": [
    "x_names"
   ]
  },
  {
   "cell_type": "code",
   "execution_count": 125,
   "metadata": {},
   "outputs": [],
   "source": [
    "exclude = ['city','bed_type','guests_included','maximum_nights','apartment','house']"
   ]
  },
  {
   "cell_type": "code",
   "execution_count": 136,
   "metadata": {},
   "outputs": [
    {
     "data": {
      "text/html": [
       "<div>\n",
       "<style scoped>\n",
       "    .dataframe tbody tr th:only-of-type {\n",
       "        vertical-align: middle;\n",
       "    }\n",
       "\n",
       "    .dataframe tbody tr th {\n",
       "        vertical-align: top;\n",
       "    }\n",
       "\n",
       "    .dataframe thead th {\n",
       "        text-align: right;\n",
       "    }\n",
       "</style>\n",
       "<table border=\"1\" class=\"dataframe\">\n",
       "  <thead>\n",
       "    <tr style=\"text-align: right;\">\n",
       "      <th></th>\n",
       "      <th>model</th>\n",
       "      <th>R2_train</th>\n",
       "      <th>R2_test</th>\n",
       "      <th>MSE_train</th>\n",
       "      <th>MSE_test</th>\n",
       "    </tr>\n",
       "  </thead>\n",
       "  <tbody>\n",
       "    <tr>\n",
       "      <th>0</th>\n",
       "      <td>simle_linear_accomodates</td>\n",
       "      <td>0.255</td>\n",
       "      <td>0.247</td>\n",
       "      <td>7592.33</td>\n",
       "      <td>7423.67</td>\n",
       "    </tr>\n",
       "    <tr>\n",
       "      <th>1</th>\n",
       "      <td>simple_linear_bedrooms</td>\n",
       "      <td>0.259</td>\n",
       "      <td>0.325</td>\n",
       "      <td>7545.87</td>\n",
       "      <td>6651.37</td>\n",
       "    </tr>\n",
       "    <tr>\n",
       "      <th>2</th>\n",
       "      <td>multiple_linear_all</td>\n",
       "      <td>0.513</td>\n",
       "      <td>0.260</td>\n",
       "      <td>4958.94</td>\n",
       "      <td>7292.65</td>\n",
       "    </tr>\n",
       "    <tr>\n",
       "      <th>3</th>\n",
       "      <td>multiple_linear_all</td>\n",
       "      <td>0.513</td>\n",
       "      <td>0.260</td>\n",
       "      <td>4958.94</td>\n",
       "      <td>7292.65</td>\n",
       "    </tr>\n",
       "  </tbody>\n",
       "</table>\n",
       "</div>"
      ],
      "text/plain": [
       "                      model  R2_train  R2_test  MSE_train  MSE_test\n",
       "0  simle_linear_accomodates     0.255    0.247    7592.33   7423.67\n",
       "1    simple_linear_bedrooms     0.259    0.325    7545.87   6651.37\n",
       "2       multiple_linear_all     0.513    0.260    4958.94   7292.65\n",
       "3       multiple_linear_all     0.513    0.260    4958.94   7292.65"
      ]
     },
     "execution_count": 136,
     "metadata": {},
     "output_type": "execute_result"
    }
   ],
   "source": [
    "summary = summary.append({'model':'multiple_linear_all',\n",
    "                         'R2_train':round(mr.score(X_train, y_train),3),\n",
    "                         'R2_test':round( mr.score(X_test, y_test),3),\n",
    "                         'MSE_train':round(mean_squared_error(y_train, mr.predict(X_train)),2),\n",
    "                         'MSE_test': round(mean_squared_error(y_test, y_pred),2)}, ignore_index=True)\n",
    "summary"
   ]
  },
  {
   "cell_type": "markdown",
   "metadata": {},
   "source": [
    "R2_train у многофакторной модели регрессии самый высокий, однако R2_test значительно меньше, что свидетельствует о том. что модель переучена. Также, судя по р-значениям, некоторые факторы являются не значимыми. А именно: 'city','bed_type','guests_included','maximum_nights','apartment','house'. Они будут исключены. "
   ]
  },
  {
   "cell_type": "code",
   "execution_count": 138,
   "metadata": {},
   "outputs": [
    {
     "data": {
      "image/png": "[encoded data removed]",
      "text/plain": [
       "<Figure size 432x288 with 1 Axes>"
      ]
     },
     "metadata": {
      "needs_background": "light"
     },
     "output_type": "display_data"
    }
   ],
   "source": [
    "# Visualising the Training set results\n",
    "plt.scatter(X_train[:, 6], y_train, color='red')\n",
    "plt.plot(X_train[:, 6], mr.predict(X_train), 'bo')\n",
    "plt.title('Price vs bedrooms')\n",
    "plt.xlabel('bedrooms')\n",
    "plt.ylabel('Price')\n",
    "plt.show()"
   ]
  },
  {
   "cell_type": "code",
   "execution_count": 141,
   "metadata": {},
   "outputs": [
    {
     "data": {
      "image/png": "[encoded data removed]",
      "text/plain": [
       "<Figure size 432x288 with 1 Axes>"
      ]
     },
     "metadata": {
      "needs_background": "light"
     },
     "output_type": "display_data"
    }
   ],
   "source": [
    "# Visualising the Training set results\n",
    "plt.scatter(X_test[:, 6], y_test, color='red')\n",
    "plt.plot(X_test[:, 6], mr.predict(X_test), 'bo')\n",
    "plt.title('Price vs bedrooms')\n",
    "plt.xlabel('bedrooms')\n",
    "plt.ylabel('Price')\n",
    "plt.show()"
   ]
  },
  {
   "cell_type": "code",
   "execution_count": 145,
   "metadata": {},
   "outputs": [],
   "source": [
    "# Создаиние тестовой и обучающей выборки\n",
    "X1 = df.iloc[:,[1,2,4,5,6,7,9,10,12,14,15,16,19,20,21,22,23]].values\n",
    "y = df.iloc[:, 0].values\n",
    "from sklearn.model_selection import train_test_split\n",
    "X_train1, X_test1, y_train, y_test = train_test_split(X1, y, test_size=0.2, random_state=3)"
   ]
  },
  {
   "cell_type": "code",
   "execution_count": 146,
   "metadata": {},
   "outputs": [],
   "source": [
    "# Fitting Multiple Linear Regression to the Training set\n",
    "from sklearn.linear_model import LinearRegression\n",
    "mr=LinearRegression().fit(X_train1, y_train)"
   ]
  },
  {
   "cell_type": "code",
   "execution_count": 147,
   "metadata": {},
   "outputs": [
    {
     "data": {
      "text/plain": [
       "(array([-1.70463731e-02,  1.40417277e+01,  1.07590838e+01,  4.07082623e+01,\n",
       "         3.60584962e+01, -5.41126266e+00,  8.74923459e-01,  1.43182926e-01,\n",
       "        -1.80023878e+00, -1.65991700e-01,  1.03737703e+01,  3.09046022e+00,\n",
       "        -4.48756954e+01, -6.19147168e+01, -1.07183454e+02, -1.01258988e+02,\n",
       "        -1.12221017e+02]),\n",
       " 152.29645916690578)"
      ]
     },
     "execution_count": 147,
     "metadata": {},
     "output_type": "execute_result"
    }
   ],
   "source": [
    "# Getting parameters\n",
    "mr.coef_, mr.intercept_"
   ]
  },
  {
   "cell_type": "code",
   "execution_count": 148,
   "metadata": {},
   "outputs": [],
   "source": [
    "# Predicting the Test set results\n",
    "y_pred=mr.predict(X_test1)"
   ]
  },
  {
   "cell_type": "code",
   "execution_count": 149,
   "metadata": {},
   "outputs": [
    {
     "data": {
      "text/plain": [
       "(0.5125089831594785, 0.48818390290715885)"
      ]
     },
     "execution_count": 149,
     "metadata": {},
     "output_type": "execute_result"
    }
   ],
   "source": [
    "# Coefficient of determination R^2\n",
    "mr.score(X_train1, y_train), mr.score(X_test1, y_test)"
   ]
  },
  {
   "cell_type": "code",
   "execution_count": 150,
   "metadata": {},
   "outputs": [
    {
     "data": {
      "text/plain": [
       "(4967.647097580055, 5046.4714324189845)"
      ]
     },
     "execution_count": 150,
     "metadata": {},
     "output_type": "execute_result"
    }
   ],
   "source": [
    "# Mean Squared Error\n",
    "from sklearn.metrics import mean_squared_error\n",
    "mean_squared_error(y_train, mr.predict(X_train1)), mean_squared_error(y_test, y_pred)"
   ]
  },
  {
   "cell_type": "code",
   "execution_count": 153,
   "metadata": {},
   "outputs": [
    {
     "data": {
      "text/plain": [
       "array([1.89955720e-16, 1.88470402e-09, 1.00157077e-04, 9.78847408e-11,\n",
       "       2.31344304e-25, 1.77605365e-28, 5.99275191e-02, 2.51722758e-02,\n",
       "       7.94589008e-04, 3.09936551e-02, 1.89135527e-02, 2.89398980e-02,\n",
       "       1.38533175e-18, 1.31186039e-31, 1.03124968e-12, 8.31721157e-18,\n",
       "       1.23524431e-15, 4.33904613e-19])"
      ]
     },
     "execution_count": 153,
     "metadata": {},
     "output_type": "execute_result"
    }
   ],
   "source": [
    "# p-values\n",
    "import statsmodels.api as sm\n",
    "X_const=sm.add_constant(X_train1)\n",
    "mr1=sm.OLS(y_train, X_const).fit()\n",
    "mr1.pvalues\n",
    "#mr1.summary()"
   ]
  },
  {
   "cell_type": "code",
   "execution_count": 160,
   "metadata": {},
   "outputs": [
    {
     "data": {
      "image/png": "[encoded data removed]",
      "text/plain": [
       "<Figure size 432x288 with 1 Axes>"
      ]
     },
     "metadata": {
      "needs_background": "light"
     },
     "output_type": "display_data"
    }
   ],
   "source": [
    "# Visualising the Training set results\n",
    "plt.scatter(X_train1[:, 5], y_train, color='red')\n",
    "plt.plot(X_train1[:, 5], mr.predict(X_train1), 'bo')\n",
    "plt.title('Price vs bedrooms')\n",
    "plt.xlabel('bedrooms')\n",
    "plt.ylabel('Price')\n",
    "plt.show()"
   ]
  },
  {
   "cell_type": "code",
   "execution_count": 161,
   "metadata": {},
   "outputs": [
    {
     "data": {
      "image/png": "[encoded data removed]",
      "text/plain": [
       "<Figure size 432x288 with 1 Axes>"
      ]
     },
     "metadata": {
      "needs_background": "light"
     },
     "output_type": "display_data"
    }
   ],
   "source": [
    "# Visualising the Training set results\n",
    "plt.scatter(X_test1[:, 5], y_test, color='red')\n",
    "plt.plot(X_test1[:, 5], mr.predict(X_test1), 'bo')\n",
    "plt.title('Price vs bedrooms')\n",
    "plt.xlabel('bedrooms')\n",
    "plt.ylabel('Price')\n",
    "plt.show()"
   ]
  },
  {
   "cell_type": "code",
   "execution_count": 157,
   "metadata": {},
   "outputs": [],
   "source": [
    "summary = summary.append({'model':'multiple_linear2',\n",
    "                         'R2_train':round(mr.score(X_train1, y_train),3),\n",
    "                         'R2_test':round( mr.score(X_test1, y_test),3),\n",
    "                         'MSE_train':round(mean_squared_error(y_train, mr.predict(X_train1)),2),\n",
    "                         'MSE_test': round(mean_squared_error(y_test, y_pred),2)}, ignore_index=True)\n"
   ]
  },
  {
   "cell_type": "code",
   "execution_count": 158,
   "metadata": {},
   "outputs": [
    {
     "data": {
      "text/html": [
       "<div>\n",
       "<style scoped>\n",
       "    .dataframe tbody tr th:only-of-type {\n",
       "        vertical-align: middle;\n",
       "    }\n",
       "\n",
       "    .dataframe tbody tr th {\n",
       "        vertical-align: top;\n",
       "    }\n",
       "\n",
       "    .dataframe thead th {\n",
       "        text-align: right;\n",
       "    }\n",
       "</style>\n",
       "<table border=\"1\" class=\"dataframe\">\n",
       "  <thead>\n",
       "    <tr style=\"text-align: right;\">\n",
       "      <th></th>\n",
       "      <th>model</th>\n",
       "      <th>R2_train</th>\n",
       "      <th>R2_test</th>\n",
       "      <th>MSE_train</th>\n",
       "      <th>MSE_test</th>\n",
       "    </tr>\n",
       "  </thead>\n",
       "  <tbody>\n",
       "    <tr>\n",
       "      <th>0</th>\n",
       "      <td>simle_linear_accomodates</td>\n",
       "      <td>0.255</td>\n",
       "      <td>0.247</td>\n",
       "      <td>7592.33</td>\n",
       "      <td>7423.67</td>\n",
       "    </tr>\n",
       "    <tr>\n",
       "      <th>1</th>\n",
       "      <td>simple_linear_bedrooms</td>\n",
       "      <td>0.259</td>\n",
       "      <td>0.325</td>\n",
       "      <td>7545.87</td>\n",
       "      <td>6651.37</td>\n",
       "    </tr>\n",
       "    <tr>\n",
       "      <th>2</th>\n",
       "      <td>multiple_linear_all</td>\n",
       "      <td>0.513</td>\n",
       "      <td>0.260</td>\n",
       "      <td>4958.94</td>\n",
       "      <td>7292.65</td>\n",
       "    </tr>\n",
       "    <tr>\n",
       "      <th>5</th>\n",
       "      <td>multiple_linear2</td>\n",
       "      <td>0.513</td>\n",
       "      <td>0.488</td>\n",
       "      <td>4967.65</td>\n",
       "      <td>5046.47</td>\n",
       "    </tr>\n",
       "  </tbody>\n",
       "</table>\n",
       "</div>"
      ],
      "text/plain": [
       "                      model  R2_train  R2_test  MSE_train  MSE_test\n",
       "0  simle_linear_accomodates     0.255    0.247    7592.33   7423.67\n",
       "1    simple_linear_bedrooms     0.259    0.325    7545.87   6651.37\n",
       "2       multiple_linear_all     0.513    0.260    4958.94   7292.65\n",
       "5          multiple_linear2     0.513    0.488    4967.65   5046.47"
      ]
     },
     "execution_count": 158,
     "metadata": {},
     "output_type": "execute_result"
    }
   ],
   "source": [
    "summary"
   ]
  },
  {
   "cell_type": "markdown",
   "metadata": {},
   "source": [
    "Качество модели учучшилось. Показатели R2_test стал выше, а MSE_test ниже.\n",
    "Последняя построенная модель является наилучшей из всех регрессионных моделей. "
   ]
  },
  {
   "cell_type": "code",
   "execution_count": 169,
   "metadata": {},
   "outputs": [],
   "source": [
    "# Fitting Polynomial Regression to the dataset\n",
    "from sklearn.preprocessing import PolynomialFeatures\n",
    "X_train_p=PolynomialFeatures().fit_transform(X_train[:,6:7])\n",
    "X_test_p=PolynomialFeatures().fit_transform(X_test[:,6:7])\n",
    "pr=LinearRegression().fit(X_train_p[:, 1:], y_train)"
   ]
  },
  {
   "cell_type": "code",
   "execution_count": 170,
   "metadata": {},
   "outputs": [
    {
     "data": {
      "text/plain": [
       "(array([55.30769855, -0.1088316 ]), 56.30007122399161)"
      ]
     },
     "execution_count": 170,
     "metadata": {},
     "output_type": "execute_result"
    }
   ],
   "source": [
    "# Getting parameters\n",
    "pr.coef_, pr.intercept_"
   ]
  },
  {
   "cell_type": "code",
   "execution_count": 172,
   "metadata": {},
   "outputs": [],
   "source": [
    "# Predicting the Test set results\n",
    "y_pred=pr.predict(X_test_p[:, 1:])"
   ]
  },
  {
   "cell_type": "code",
   "execution_count": 173,
   "metadata": {},
   "outputs": [
    {
     "data": {
      "text/plain": [
       "(0.2595013831023041, 0.3253163075968487)"
      ]
     },
     "execution_count": 173,
     "metadata": {},
     "output_type": "execute_result"
    }
   ],
   "source": [
    "# Coefficient of determination R^2\n",
    "pr.score(X_train_p[:,1:], y_train), pr.score(X_test_p[:, 1:], y_test)"
   ]
  },
  {
   "cell_type": "code",
   "execution_count": 174,
   "metadata": {},
   "outputs": [
    {
     "data": {
      "text/plain": [
       "(7545.853519178355, 6652.334693986481)"
      ]
     },
     "execution_count": 174,
     "metadata": {},
     "output_type": "execute_result"
    }
   ],
   "source": [
    "# Mean Squared Error\n",
    "from sklearn.metrics import mean_squared_error\n",
    "mean_squared_error(y_train, pr.predict(X_train_p[:, 1:])), mean_squared_error(y_test, y_pred)"
   ]
  },
  {
   "cell_type": "code",
   "execution_count": 175,
   "metadata": {},
   "outputs": [
    {
     "data": {
      "image/png": "[encoded data removed]",
      "text/plain": [
       "<Figure size 432x288 with 1 Axes>"
      ]
     },
     "metadata": {
      "needs_background": "light"
     },
     "output_type": "display_data"
    }
   ],
   "source": [
    "# Visualising the Training set results\n",
    "plt.scatter(X_train[:, 10], y_train, color='red')\n",
    "plt.plot(X_train[:, 10], pr.predict(X_train_p[:,1:]), 'bo')\n",
    "plt.title('Price vs Engine Size (Training set)')\n",
    "plt.xlabel('Engine Size')\n",
    "plt.ylabel('Price')\n",
    "plt.show()"
   ]
  },
  {
   "cell_type": "code",
   "execution_count": 176,
   "metadata": {},
   "outputs": [
    {
     "data": {
      "image/png": "[encoded data removed]",
      "text/plain": [
       "<Figure size 432x288 with 1 Axes>"
      ]
     },
     "metadata": {
      "needs_background": "light"
     },
     "output_type": "display_data"
    }
   ],
   "source": [
    "# Visualising the Test set results\n",
    "plt.scatter(X_test[:, 10], y_test, color='red')\n",
    "plt.plot(X_test[:, 10], pr.predict(X_test_p[:, 1:]), 'bo')\n",
    "plt.title('Price vs Engine Size (Test set)')\n",
    "plt.xlabel('Engine Size')\n",
    "plt.ylabel('Price')\n",
    "plt.show()"
   ]
  },
  {
   "cell_type": "code",
   "execution_count": 188,
   "metadata": {},
   "outputs": [],
   "source": [
    "summary = summary.append({'model':'polynomial_regression',\n",
    "                         'R2_train':round(pr.score(X_train_p[:,1:], y_train),3),\n",
    "                         'R2_test':round(pr.score(X_test_p[:, 1:], y_test),3),\n",
    "                         'MSE_train':round(mean_squared_error(y_train, pr.predict(X_train_p[:, 1:])),2),\n",
    "                         'MSE_test': round(mean_squared_error(y_test, y_pred),2)}, ignore_index=True)"
   ]
  },
  {
   "cell_type": "code",
   "execution_count": 189,
   "metadata": {},
   "outputs": [
    {
     "data": {
      "text/html": [
       "<div>\n",
       "<style scoped>\n",
       "    .dataframe tbody tr th:only-of-type {\n",
       "        vertical-align: middle;\n",
       "    }\n",
       "\n",
       "    .dataframe tbody tr th {\n",
       "        vertical-align: top;\n",
       "    }\n",
       "\n",
       "    .dataframe thead th {\n",
       "        text-align: right;\n",
       "    }\n",
       "</style>\n",
       "<table border=\"1\" class=\"dataframe\">\n",
       "  <thead>\n",
       "    <tr style=\"text-align: right;\">\n",
       "      <th></th>\n",
       "      <th>model</th>\n",
       "      <th>R2_train</th>\n",
       "      <th>R2_test</th>\n",
       "      <th>MSE_train</th>\n",
       "      <th>MSE_test</th>\n",
       "    </tr>\n",
       "  </thead>\n",
       "  <tbody>\n",
       "    <tr>\n",
       "      <th>0</th>\n",
       "      <td>simle_linear_accomodates</td>\n",
       "      <td>0.255</td>\n",
       "      <td>0.247</td>\n",
       "      <td>7592.33</td>\n",
       "      <td>7423.67</td>\n",
       "    </tr>\n",
       "    <tr>\n",
       "      <th>1</th>\n",
       "      <td>simple_linear_bedrooms</td>\n",
       "      <td>0.259</td>\n",
       "      <td>0.325</td>\n",
       "      <td>7545.87</td>\n",
       "      <td>6651.37</td>\n",
       "    </tr>\n",
       "    <tr>\n",
       "      <th>2</th>\n",
       "      <td>multiple_linear_all</td>\n",
       "      <td>0.513</td>\n",
       "      <td>0.260</td>\n",
       "      <td>4958.94</td>\n",
       "      <td>7292.65</td>\n",
       "    </tr>\n",
       "    <tr>\n",
       "      <th>3</th>\n",
       "      <td>multiple_linear2</td>\n",
       "      <td>0.513</td>\n",
       "      <td>0.488</td>\n",
       "      <td>4967.65</td>\n",
       "      <td>5046.47</td>\n",
       "    </tr>\n",
       "    <tr>\n",
       "      <th>4</th>\n",
       "      <td>polynomial_regression</td>\n",
       "      <td>0.260</td>\n",
       "      <td>0.325</td>\n",
       "      <td>7545.85</td>\n",
       "      <td>6652.33</td>\n",
       "    </tr>\n",
       "  </tbody>\n",
       "</table>\n",
       "</div>"
      ],
      "text/plain": [
       "                      model  R2_train  R2_test  MSE_train  MSE_test\n",
       "0  simle_linear_accomodates     0.255    0.247    7592.33   7423.67\n",
       "1    simple_linear_bedrooms     0.259    0.325    7545.87   6651.37\n",
       "2       multiple_linear_all     0.513    0.260    4958.94   7292.65\n",
       "3          multiple_linear2     0.513    0.488    4967.65   5046.47\n",
       "4     polynomial_regression     0.260    0.325    7545.85   6652.33"
      ]
     },
     "execution_count": 189,
     "metadata": {},
     "output_type": "execute_result"
    }
   ],
   "source": [
    "summary"
   ]
  },
  {
   "cell_type": "markdown",
   "metadata": {},
   "source": [
    "Качество модели полиномиальной регрессии низкое. R2 как у модели на тестовой, так и на обучающей выборке низкий. \n",
    "### Выводы\n",
    "Были построены однофакторные, многофакторные с использованием всех переменных и многофакторная с использоанием только значимых переменных, а также полиномиальная модель регрессии. Качество моделей оценивалось и сравнивалось на основании значений \tR2 и MSE.\n",
    "\n",
    "Качество многофакторной модели со значимыми факторами наилучшее среди регрессионных моделей. Однако то, что R2_test меньше чем R2_train свидетельствует о переучености модели."
   ]
  },
  {
   "cell_type": "code",
   "execution_count": 190,
   "metadata": {},
   "outputs": [],
   "source": [
    "summary.to_csv('summary.csv')"
   ]
  },
  {
   "cell_type": "code",
   "execution_count": null,
   "metadata": {},
   "outputs": [],
   "source": []
  }
 ],
 "metadata": {
  "kernelspec": {
   "display_name": "Python 3",
   "language": "python",
   "name": "python3"
  },
  "language_info": {
   "codemirror_mode": {
    "name": "ipython",
    "version": 3
   },
   "file_extension": ".py",
   "mimetype": "text/x-python",
   "name": "python",
   "nbconvert_exporter": "python",
   "pygments_lexer": "ipython3",
   "version": "3.8.3"
  }
 },
 "nbformat": 4,
 "nbformat_minor": 4
}
